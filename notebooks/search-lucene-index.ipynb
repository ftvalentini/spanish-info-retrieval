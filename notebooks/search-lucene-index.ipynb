{
 "cells": [
  {
   "cell_type": "markdown",
   "metadata": {},
   "source": [
    "Sources: \n",
    "\n",
    "* https://github.com/castorini/pyserini/blob/master/docs/usage-search.md#traditional-lexical-models\n",
    "* https://github.com/castorini/pyserini/blob/master/docs/usage-index.md#building-a-bm25-index-direct-java-implementation"
   ]
  },
  {
   "cell_type": "code",
   "execution_count": 1,
   "metadata": {},
   "outputs": [],
   "source": [
    "from pyserini.search.lucene import LuceneSearcher\n"
   ]
  },
  {
   "cell_type": "code",
   "execution_count": 2,
   "metadata": {},
   "outputs": [],
   "source": [
    "searcher = LuceneSearcher(\"../runs/indexes/lucene-index.miracl-v1.0-es\")\n",
    "searcher.set_language(\"es\")\n"
   ]
  },
  {
   "cell_type": "code",
   "execution_count": 3,
   "metadata": {},
   "outputs": [
    {
     "name": "stdout",
     "output_type": "stream",
     "text": [
      "1177652#0\t¿Qué es Anónimo de Rávena?\n",
      "3039093#0\t¿Cuál es el origen del rap?\n",
      "9997781#0\t¿Cuántas nuevas especies de animales se descubrieron en América del Sur en 2021?\n",
      "4607388#0\t¿Todavía hay vikingos en Groenlandia?\n",
      "583926#0\t¿En qué se diferencian al Qaeda, el Talibán y el Estado Islámico?\n",
      "10051043#0\t¿Cuáles son las principales influencias de la cultura pop actual en Nigeria?\n"
     ]
    }
   ],
   "source": [
    "!head -n 6 ../data/miracl/miracl-v1.0-es/topics/topics.miracl-v1.0-es-dev.tsv\n"
   ]
  },
  {
   "cell_type": "code",
   "execution_count": 4,
   "metadata": {},
   "outputs": [
    {
     "name": "stdout",
     "output_type": "stream",
     "text": [
      "1 {\n",
      "  \"docid\" : \"152560#9\",\n",
      "  \"title\" : \"Ravena\",\n",
      "  \"text\" : \"Después de las conquistas de Belisario para el emperador Justiniano I en el , Rávena se convirtió en sede del gobernador romano oriental de Italia, el Exarca, y fue conocido como el Exarcado de Rávena. Fue en esta época cuando se escribió el \\\"Anónimo de Rávena.\\\"\"\n",
      "}\n",
      "2 {\n",
      "  \"docid\" : \"1480851#0\",\n",
      "  \"title\" : \"Anónimo de Rávena\",\n",
      "  \"text\" : \"El Anónimo de Rávena (Ravennatis Anonymi Cosmographia), conocido también popularmente como Ravennate, es un texto compilado por un cosmógrafo cristiano, hecho en el siglo VII (aproximadamente sobre el año 670), manejando documentación de siglos anteriores (siglo III o siglo IV), con muchas corrupciones y variantes introducidas luego por los sucesivos copistas medievales, en el que se describen itinerarios romanos.\"\n",
      "}\n",
      "3 {\n",
      "  \"docid\" : \"1480851#1\",\n",
      "  \"title\" : \"Anónimo de Rávena\",\n",
      "  \"text\" : \"Se trata más que de una \\\"cosmographia\\\", como el mismo autor la llama, de un catálogo nominal de tipo cosmográfico que abarca todo el mundo conocido hasta aquel entonces. Posteriormente la obra fue dividida por los primeros editores en cinco libros.El \\\"Anónimo de Rávena\\\" constituye una valiosa fuente escrita a tener en cuenta para el estudio de las calzadas romanas. No obstante, no proporciona las distancias entre una mansión y otra, limitándose solamente a consignar el nombre de éstas y las líneas de ruta, listando alrededor de 5300 referencias, entre ellas unos 300 ríos, siendo el resto ciudades. Sólo en el libro V ofrece algunos datos de distancias y algunas de las ciudades se enumeran por provincias, aunque de un modo bastante desordenado e irregular. Añade al \\\"Itinerario de Antonino\\\" nuevos nombres de ciudades o \\\"mansiones\\\" (lugares con posada) nacidas posteriormente y seguramente tuvo la misma fuente de inspiración que la \\\"Tabula Peutingeriana\\\", aunque a veces el Anónimo de Rávena incluye datos más completos que la Tabula.\"\n",
      "}\n",
      "4 {\n",
      "  \"docid\" : \"9741026#0\",\n",
      "  \"title\" : \"Cosmografía de Rávena\",\n",
      "  \"text\" : \"La Cosmografía de Rávena () es una lista de topónimos que cubre el mundo desde India a Irlanda, compilado por un monje anónimo de la ciudad de Rávena cerca del año 700 d. C. La evidencia textual indica que el autor usó mapas con frecuencia como fuente.\"\n",
      "}\n",
      "5 {\n",
      "  \"docid\" : \"10108226#2\",\n",
      "  \"title\" : \"Martiniano de Milán\",\n",
      "  \"text\" : \"Durante esta controversia teológica, después de octubre / noviembre de 430, un obispo anónimo de Milán, probablemente el mismo Martiniano, fue el destinatario, junto con los obispos anónimos de Aquileia y Rávena, de una carta escrita por los antioquenos que denunciaban los escritos de Cirilo que, según ellos, estaba impregnado de apolinarismo.\"\n",
      "}\n"
     ]
    }
   ],
   "source": [
    "hits = searcher.search(\"¿Qué es Anónimo de Rávena?\", k=5)\n",
    "\n",
    "for i, hit in enumerate(hits):\n",
    "    print(f'{i+1:0} {hit.raw}')\n"
   ]
  },
  {
   "cell_type": "code",
   "execution_count": 5,
   "metadata": {},
   "outputs": [
    {
     "name": "stdout",
     "output_type": "stream",
     "text": [
      "1 {\n",
      "  \"docid\" : \"331458#11\",\n",
      "  \"title\" : \"Estadio Diego Armando Maradona (Italia)\",\n",
      "  \"text\" : \"En el el Diego Armando Maradona fue sede de:\"\n",
      "}\n",
      "2 {\n",
      "  \"docid\" : \"9691716#0\",\n",
      "  \"title\" : \"Estadio Diego Armando Maradona\",\n",
      "  \"text\" : \"Estadio Diego Armando Maradona puede referirse a:\"\n",
      "}\n",
      "3 {\n",
      "  \"docid\" : \"331458#12\",\n",
      "  \"title\" : \"Estadio Diego Armando Maradona (Italia)\",\n",
      "  \"text\" : \"En la Eurocopa de fútbol 1968 el Diego Armando Maradona fue sede de:\"\n",
      "}\n",
      "4 {\n",
      "  \"docid\" : \"331458#13\",\n",
      "  \"title\" : \"Estadio Diego Armando Maradona (Italia)\",\n",
      "  \"text\" : \"En la Eurocopa de fútbol 1980 el Diego Armando Maradona fue sede de:\"\n",
      "}\n",
      "5 {\n",
      "  \"docid\" : \"2013794#0\",\n",
      "  \"title\" : \"Diego Sinagra\",\n",
      "  \"text\" : \"Diego Armando Maradona Sinagra (Nápoles, Italia; 20 de septiembre de 1986), también conocido como Diego Maradona Jr. o Diego Sinagra, es un exfutbolista y entrenador Italo-argentino, hijo del reconocido exfutbolista Diego Armando Maradona. Se desempeñaba como mediocampista o delantero. Actualmente desde el 4 de Julio del 2021 es el director técnico del Napoli United de la Eccellenza Campania que sería La Quinta División del Fútbol de Italia.\"\n",
      "}\n"
     ]
    }
   ],
   "source": [
    "hits = searcher.search(\"¿En qué año nació Diego Armando Maradona?\", k=5)\n",
    "\n",
    "for i, hit in enumerate(hits):\n",
    "    print(f'{i+1:0} {hit.raw}')\n"
   ]
  },
  {
   "cell_type": "code",
   "execution_count": 7,
   "metadata": {},
   "outputs": [],
   "source": [
    "# Se pueden buscar docs por titulo o id?\n",
    "searcher.doc_by_field(\"docid\", \"2013794#0\")\n"
   ]
  }
 ],
 "metadata": {
  "kernelspec": {
   "display_name": "spanish-ir",
   "language": "python",
   "name": "python3"
  },
  "language_info": {
   "codemirror_mode": {
    "name": "ipython",
    "version": 3
   },
   "file_extension": ".py",
   "mimetype": "text/x-python",
   "name": "python",
   "nbconvert_exporter": "python",
   "pygments_lexer": "ipython3",
   "version": "3.10.13"
  }
 },
 "nbformat": 4,
 "nbformat_minor": 2
}
