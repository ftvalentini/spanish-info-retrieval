{
 "cells": [
  {
   "cell_type": "markdown",
   "metadata": {},
   "source": [
    "## Wikipedia collection\n",
    "\n",
    "Add the pageviews for the Spanish Wikipedia documents in MIRACL.\n",
    "\n",
    "We then sample from the first document of each article using the pageviews as weights, and use these to create questions by feeding them to an LLM. "
   ]
  },
  {
   "cell_type": "code",
   "execution_count": 1,
   "metadata": {},
   "outputs": [],
   "source": [
    "import textwrap\n",
    "\n",
    "import pandas as pd\n",
    "import datasets\n",
    "import numpy as np\n",
    "import matplotlib.pyplot as plt"
   ]
  },
  {
   "cell_type": "markdown",
   "metadata": {},
   "source": [
    "### Data"
   ]
  },
  {
   "cell_type": "code",
   "execution_count": 2,
   "metadata": {},
   "outputs": [],
   "source": [
    "# Load wikipedia pageviews (reading \"None\" and \"NaN\" as strings, not as missing values):\n",
    "df_views = pd.read_csv(\n",
    "    \"../runs/wikipedia-pageviews.txt\", sep=\"\\t\", header=None, names=[\"title\", \"views\"],\n",
    "    keep_default_na=False, na_values=['']\n",
    ")"
   ]
  },
  {
   "cell_type": "code",
   "execution_count": 3,
   "metadata": {},
   "outputs": [],
   "source": [
    "# Load wikipedia docs (currently from miracl, maybe use ours with wikiextractor later):\n",
    "miracl_corpus = datasets.load_dataset(\"../data/miracl-corpus\", \"es\")\n",
    "df_docs = miracl_corpus[\"train\"].to_pandas()"
   ]
  },
  {
   "cell_type": "code",
   "execution_count": 4,
   "metadata": {},
   "outputs": [
    {
     "name": "stdout",
     "output_type": "stream",
     "text": [
      "NaN None\n",
      "['NaN' 'None']\n"
     ]
    }
   ],
   "source": [
    "# articles named 'NaN' and 'None' have been correctly parsed:\n",
    "titles = df_docs[\"title\"].unique().tolist()\n",
    "print(titles[874666], titles[1218863])\n",
    "print(df_views.iloc[[874666, 1218863]][\"title\"].values)"
   ]
  },
  {
   "cell_type": "code",
   "execution_count": 5,
   "metadata": {},
   "outputs": [
    {
     "data": {
      "text/plain": [
       "title    0\n",
       "views    0\n",
       "dtype: int64"
      ]
     },
     "execution_count": 5,
     "metadata": {},
     "output_type": "execute_result"
    }
   ],
   "source": [
    "# No missing values:\n",
    "df_views.isna().sum()"
   ]
  },
  {
   "cell_type": "code",
   "execution_count": 6,
   "metadata": {},
   "outputs": [
    {
     "data": {
      "text/html": [
       "<div>\n",
       "<style scoped>\n",
       "    .dataframe tbody tr th:only-of-type {\n",
       "        vertical-align: middle;\n",
       "    }\n",
       "\n",
       "    .dataframe tbody tr th {\n",
       "        vertical-align: top;\n",
       "    }\n",
       "\n",
       "    .dataframe thead th {\n",
       "        text-align: right;\n",
       "    }\n",
       "</style>\n",
       "<table border=\"1\" class=\"dataframe\">\n",
       "  <thead>\n",
       "    <tr style=\"text-align: right;\">\n",
       "      <th></th>\n",
       "      <th>docid</th>\n",
       "      <th>title</th>\n",
       "      <th>text</th>\n",
       "    </tr>\n",
       "  </thead>\n",
       "  <tbody>\n",
       "    <tr>\n",
       "      <th>0</th>\n",
       "      <td>5163778#0</td>\n",
       "      <td>Yaxcopoil (Yaxkukul)</td>\n",
       "      <td>Yaxcopoil, es una localidad del estado de Yuca...</td>\n",
       "    </tr>\n",
       "    <tr>\n",
       "      <th>1</th>\n",
       "      <td>5163778#1</td>\n",
       "      <td>Yaxcopoil (Yaxkukul)</td>\n",
       "      <td>Yaxcopoil es un toponímico que en idioma maya ...</td>\n",
       "    </tr>\n",
       "  </tbody>\n",
       "</table>\n",
       "</div>"
      ],
      "text/plain": [
       "       docid                 title  \\\n",
       "0  5163778#0  Yaxcopoil (Yaxkukul)   \n",
       "1  5163778#1  Yaxcopoil (Yaxkukul)   \n",
       "\n",
       "                                                text  \n",
       "0  Yaxcopoil, es una localidad del estado de Yuca...  \n",
       "1  Yaxcopoil es un toponímico que en idioma maya ...  "
      ]
     },
     "execution_count": 6,
     "metadata": {},
     "output_type": "execute_result"
    }
   ],
   "source": [
    "df_docs.head(2)"
   ]
  },
  {
   "cell_type": "code",
   "execution_count": 7,
   "metadata": {},
   "outputs": [
    {
     "data": {
      "text/html": [
       "<div>\n",
       "<style scoped>\n",
       "    .dataframe tbody tr th:only-of-type {\n",
       "        vertical-align: middle;\n",
       "    }\n",
       "\n",
       "    .dataframe tbody tr th {\n",
       "        vertical-align: top;\n",
       "    }\n",
       "\n",
       "    .dataframe thead th {\n",
       "        text-align: right;\n",
       "    }\n",
       "</style>\n",
       "<table border=\"1\" class=\"dataframe\">\n",
       "  <thead>\n",
       "    <tr style=\"text-align: right;\">\n",
       "      <th></th>\n",
       "      <th>docid</th>\n",
       "      <th>title</th>\n",
       "      <th>text</th>\n",
       "    </tr>\n",
       "  </thead>\n",
       "  <tbody>\n",
       "  </tbody>\n",
       "</table>\n",
       "</div>"
      ],
      "text/plain": [
       "Empty DataFrame\n",
       "Columns: [docid, title, text]\n",
       "Index: []"
      ]
     },
     "execution_count": 7,
     "metadata": {},
     "output_type": "execute_result"
    }
   ],
   "source": [
    "# NOTE there are no underscores in df_docs:\n",
    "mask = df_docs[\"title\"].str.contains(\"\\\\_\")\n",
    "df_docs[mask]"
   ]
  },
  {
   "cell_type": "code",
   "execution_count": 8,
   "metadata": {},
   "outputs": [],
   "source": [
    "# Add views to docs:\n",
    "df_views[\"title\"] = df_views[\"title\"].str.replace(\"_\", \" \")\n",
    "df_full = pd.merge(df_docs, df_views, on=\"title\", how=\"left\")\n"
   ]
  },
  {
   "cell_type": "markdown",
   "metadata": {},
   "source": [
    "### Explore"
   ]
  },
  {
   "cell_type": "code",
   "execution_count": 9,
   "metadata": {},
   "outputs": [
    {
     "data": {
      "text/html": [
       "<div>\n",
       "<style scoped>\n",
       "    .dataframe tbody tr th:only-of-type {\n",
       "        vertical-align: middle;\n",
       "    }\n",
       "\n",
       "    .dataframe tbody tr th {\n",
       "        vertical-align: top;\n",
       "    }\n",
       "\n",
       "    .dataframe thead th {\n",
       "        text-align: right;\n",
       "    }\n",
       "</style>\n",
       "<table border=\"1\" class=\"dataframe\">\n",
       "  <thead>\n",
       "    <tr style=\"text-align: right;\">\n",
       "      <th></th>\n",
       "      <th>title</th>\n",
       "      <th>views</th>\n",
       "    </tr>\n",
       "  </thead>\n",
       "  <tbody>\n",
       "    <tr>\n",
       "      <th>327421</th>\n",
       "      <td>Lali Espósito</td>\n",
       "      <td>60892886</td>\n",
       "    </tr>\n",
       "    <tr>\n",
       "      <th>272968</th>\n",
       "      <td>Cleopatra</td>\n",
       "      <td>45601880</td>\n",
       "    </tr>\n",
       "    <tr>\n",
       "      <th>255110</th>\n",
       "      <td>Tabla periódica de los elementos</td>\n",
       "      <td>38430308</td>\n",
       "    </tr>\n",
       "    <tr>\n",
       "      <th>256098</th>\n",
       "      <td>Segunda Guerra Mundial</td>\n",
       "      <td>28155116</td>\n",
       "    </tr>\n",
       "    <tr>\n",
       "      <th>1664488</th>\n",
       "      <td>Primera Guerra Mundial</td>\n",
       "      <td>27002654</td>\n",
       "    </tr>\n",
       "    <tr>\n",
       "      <th>264828</th>\n",
       "      <td>Isabel II del Reino Unido</td>\n",
       "      <td>26593110</td>\n",
       "    </tr>\n",
       "    <tr>\n",
       "      <th>249274</th>\n",
       "      <td>Estados Unidos</td>\n",
       "      <td>25298171</td>\n",
       "    </tr>\n",
       "    <tr>\n",
       "      <th>254203</th>\n",
       "      <td>España</td>\n",
       "      <td>24430574</td>\n",
       "    </tr>\n",
       "    <tr>\n",
       "      <th>451611</th>\n",
       "      <td>Lionel Messi</td>\n",
       "      <td>23379448</td>\n",
       "    </tr>\n",
       "    <tr>\n",
       "      <th>423369</th>\n",
       "      <td>Arroba (símbolo)</td>\n",
       "      <td>23048983</td>\n",
       "    </tr>\n",
       "  </tbody>\n",
       "</table>\n",
       "</div>"
      ],
      "text/plain": [
       "                                    title     views\n",
       "327421                      Lali Espósito  60892886\n",
       "272968                          Cleopatra  45601880\n",
       "255110   Tabla periódica de los elementos  38430308\n",
       "256098             Segunda Guerra Mundial  28155116\n",
       "1664488            Primera Guerra Mundial  27002654\n",
       "264828          Isabel II del Reino Unido  26593110\n",
       "249274                     Estados Unidos  25298171\n",
       "254203                             España  24430574\n",
       "451611                       Lionel Messi  23379448\n",
       "423369                   Arroba (símbolo)  23048983"
      ]
     },
     "execution_count": 9,
     "metadata": {},
     "output_type": "execute_result"
    }
   ],
   "source": [
    "# Top articles by views:\n",
    "df_views.sort_values(by=\"views\", ascending=False).head(10)"
   ]
  },
  {
   "cell_type": "code",
   "execution_count": 10,
   "metadata": {},
   "outputs": [
    {
     "data": {
      "text/html": [
       "<div>\n",
       "<style scoped>\n",
       "    .dataframe tbody tr th:only-of-type {\n",
       "        vertical-align: middle;\n",
       "    }\n",
       "\n",
       "    .dataframe tbody tr th {\n",
       "        vertical-align: top;\n",
       "    }\n",
       "\n",
       "    .dataframe thead th {\n",
       "        text-align: right;\n",
       "    }\n",
       "</style>\n",
       "<table border=\"1\" class=\"dataframe\">\n",
       "  <thead>\n",
       "    <tr style=\"text-align: right;\">\n",
       "      <th></th>\n",
       "      <th>docid</th>\n",
       "      <th>title</th>\n",
       "      <th>text</th>\n",
       "      <th>views</th>\n",
       "    </tr>\n",
       "  </thead>\n",
       "  <tbody>\n",
       "  </tbody>\n",
       "</table>\n",
       "</div>"
      ],
      "text/plain": [
       "Empty DataFrame\n",
       "Columns: [docid, title, text, views]\n",
       "Index: []"
      ]
     },
     "execution_count": 10,
     "metadata": {},
     "output_type": "execute_result"
    }
   ],
   "source": [
    "df_full.query(\"views.isna()\").head(2)"
   ]
  },
  {
   "cell_type": "code",
   "execution_count": 11,
   "metadata": {},
   "outputs": [
    {
     "data": {
      "text/html": [
       "<div>\n",
       "<style scoped>\n",
       "    .dataframe tbody tr th:only-of-type {\n",
       "        vertical-align: middle;\n",
       "    }\n",
       "\n",
       "    .dataframe tbody tr th {\n",
       "        vertical-align: top;\n",
       "    }\n",
       "\n",
       "    .dataframe thead th {\n",
       "        text-align: right;\n",
       "    }\n",
       "</style>\n",
       "<table border=\"1\" class=\"dataframe\">\n",
       "  <thead>\n",
       "    <tr style=\"text-align: right;\">\n",
       "      <th></th>\n",
       "      <th>docid</th>\n",
       "      <th>title</th>\n",
       "      <th>text</th>\n",
       "      <th>views</th>\n",
       "    </tr>\n",
       "  </thead>\n",
       "  <tbody>\n",
       "    <tr>\n",
       "      <th>5635</th>\n",
       "      <td>5170833#0</td>\n",
       "      <td>Young Girl (canción de Gary Puckett &amp;amp; The ...</td>\n",
       "      <td>«Young Girl» es una canción interpretada por G...</td>\n",
       "      <td>0</td>\n",
       "    </tr>\n",
       "    <tr>\n",
       "      <th>10305</th>\n",
       "      <td>5176634#0</td>\n",
       "      <td>Lady Kash &amp;amp; Krissy</td>\n",
       "      <td>Lady Kash &amp; Krissy (Kalaivani Kash y Saradha K...</td>\n",
       "      <td>0</td>\n",
       "    </tr>\n",
       "    <tr>\n",
       "      <th>10306</th>\n",
       "      <td>5176634#1</td>\n",
       "      <td>Lady Kash &amp;amp; Krissy</td>\n",
       "      <td>El dúo nació y se formó en Singapur, aunque la...</td>\n",
       "      <td>0</td>\n",
       "    </tr>\n",
       "    <tr>\n",
       "      <th>10307</th>\n",
       "      <td>5176634#2</td>\n",
       "      <td>Lady Kash &amp;amp; Krissy</td>\n",
       "      <td>A principios de 2008, Lady Kash comenzó su car...</td>\n",
       "      <td>0</td>\n",
       "    </tr>\n",
       "    <tr>\n",
       "      <th>12655</th>\n",
       "      <td>5179080#0</td>\n",
       "      <td>Advanced Dungeons &amp;amp; Dragons: Slayer</td>\n",
       "      <td>Advanced Dungeons &amp; Dragons: Slayer es un vide...</td>\n",
       "      <td>0</td>\n",
       "    </tr>\n",
       "    <tr>\n",
       "      <th>...</th>\n",
       "      <td>...</td>\n",
       "      <td>...</td>\n",
       "      <td>...</td>\n",
       "      <td>...</td>\n",
       "    </tr>\n",
       "    <tr>\n",
       "      <th>10372718</th>\n",
       "      <td>925137#1</td>\n",
       "      <td>Wegelin &amp;amp; Co.</td>\n",
       "      <td>Caspar Zyli (1717-1758) funda el 1 de marzo de...</td>\n",
       "      <td>0</td>\n",
       "    </tr>\n",
       "    <tr>\n",
       "      <th>10372719</th>\n",
       "      <td>925137#2</td>\n",
       "      <td>Wegelin &amp;amp; Co.</td>\n",
       "      <td>En 1893 el banco cambia su estatus legal a soc...</td>\n",
       "      <td>0</td>\n",
       "    </tr>\n",
       "    <tr>\n",
       "      <th>10372720</th>\n",
       "      <td>925137#3</td>\n",
       "      <td>Wegelin &amp;amp; Co.</td>\n",
       "      <td>En 1909, publicación del primer \"comentario de...</td>\n",
       "      <td>0</td>\n",
       "    </tr>\n",
       "    <tr>\n",
       "      <th>10372721</th>\n",
       "      <td>925137#4</td>\n",
       "      <td>Wegelin &amp;amp; Co.</td>\n",
       "      <td>En los primeros años del nuevo milenio ha aume...</td>\n",
       "      <td>0</td>\n",
       "    </tr>\n",
       "    <tr>\n",
       "      <th>10372722</th>\n",
       "      <td>925137#5</td>\n",
       "      <td>Wegelin &amp;amp; Co.</td>\n",
       "      <td>Dentro los socios con responsabilidad ilimitad...</td>\n",
       "      <td>0</td>\n",
       "    </tr>\n",
       "  </tbody>\n",
       "</table>\n",
       "<p>96807 rows × 4 columns</p>\n",
       "</div>"
      ],
      "text/plain": [
       "              docid                                              title  \\\n",
       "5635      5170833#0  Young Girl (canción de Gary Puckett &amp; The ...   \n",
       "10305     5176634#0                             Lady Kash &amp; Krissy   \n",
       "10306     5176634#1                             Lady Kash &amp; Krissy   \n",
       "10307     5176634#2                             Lady Kash &amp; Krissy   \n",
       "12655     5179080#0            Advanced Dungeons &amp; Dragons: Slayer   \n",
       "...             ...                                                ...   \n",
       "10372718   925137#1                                  Wegelin &amp; Co.   \n",
       "10372719   925137#2                                  Wegelin &amp; Co.   \n",
       "10372720   925137#3                                  Wegelin &amp; Co.   \n",
       "10372721   925137#4                                  Wegelin &amp; Co.   \n",
       "10372722   925137#5                                  Wegelin &amp; Co.   \n",
       "\n",
       "                                                       text  views  \n",
       "5635      «Young Girl» es una canción interpretada por G...      0  \n",
       "10305     Lady Kash & Krissy (Kalaivani Kash y Saradha K...      0  \n",
       "10306     El dúo nació y se formó en Singapur, aunque la...      0  \n",
       "10307     A principios de 2008, Lady Kash comenzó su car...      0  \n",
       "12655     Advanced Dungeons & Dragons: Slayer es un vide...      0  \n",
       "...                                                     ...    ...  \n",
       "10372718  Caspar Zyli (1717-1758) funda el 1 de marzo de...      0  \n",
       "10372719  En 1893 el banco cambia su estatus legal a soc...      0  \n",
       "10372720  En 1909, publicación del primer \"comentario de...      0  \n",
       "10372721  En los primeros años del nuevo milenio ha aume...      0  \n",
       "10372722  Dentro los socios con responsabilidad ilimitad...      0  \n",
       "\n",
       "[96807 rows x 4 columns]"
      ]
     },
     "execution_count": 11,
     "metadata": {},
     "output_type": "execute_result"
    }
   ],
   "source": [
    "df_full.query(\"views == 0\")"
   ]
  },
  {
   "cell_type": "code",
   "execution_count": 12,
   "metadata": {},
   "outputs": [],
   "source": [
    "df_full[\"chunk_number\"] = df_full[\"docid\"].str.split(\"#\").str[1].astype(int)"
   ]
  },
  {
   "cell_type": "code",
   "execution_count": 13,
   "metadata": {},
   "outputs": [
    {
     "data": {
      "text/plain": [
       "0.011141991192087617"
      ]
     },
     "execution_count": 13,
     "metadata": {},
     "output_type": "execute_result"
    }
   ],
   "source": [
    "# % of articles with no views:\n",
    "(df_views[\"views\"] == 0).mean()"
   ]
  },
  {
   "cell_type": "markdown",
   "metadata": {},
   "source": [
    "### Prepare candidate documents\n",
    "\n",
    "For question generation."
   ]
  },
  {
   "cell_type": "code",
   "execution_count": 14,
   "metadata": {},
   "outputs": [
    {
     "data": {
      "text/html": [
       "<div>\n",
       "<style scoped>\n",
       "    .dataframe tbody tr th:only-of-type {\n",
       "        vertical-align: middle;\n",
       "    }\n",
       "\n",
       "    .dataframe tbody tr th {\n",
       "        vertical-align: top;\n",
       "    }\n",
       "\n",
       "    .dataframe thead th {\n",
       "        text-align: right;\n",
       "    }\n",
       "</style>\n",
       "<table border=\"1\" class=\"dataframe\">\n",
       "  <thead>\n",
       "    <tr style=\"text-align: right;\">\n",
       "      <th></th>\n",
       "      <th>docid</th>\n",
       "      <th>title</th>\n",
       "      <th>text</th>\n",
       "      <th>views</th>\n",
       "      <th>chunk_number</th>\n",
       "      <th>n_words</th>\n",
       "    </tr>\n",
       "  </thead>\n",
       "  <tbody>\n",
       "    <tr>\n",
       "      <th>0</th>\n",
       "      <td>5163778#0</td>\n",
       "      <td>Yaxcopoil (Yaxkukul)</td>\n",
       "      <td>Yaxcopoil, es una localidad del estado de Yuca...</td>\n",
       "      <td>1948</td>\n",
       "      <td>0</td>\n",
       "      <td>14</td>\n",
       "    </tr>\n",
       "    <tr>\n",
       "      <th>3</th>\n",
       "      <td>5163785#0</td>\n",
       "      <td>Método de ensayo</td>\n",
       "      <td>Un método de prueba o método de ensayo, es un ...</td>\n",
       "      <td>83166</td>\n",
       "      <td>0</td>\n",
       "      <td>58</td>\n",
       "    </tr>\n",
       "    <tr>\n",
       "      <th>10</th>\n",
       "      <td>5163789#0</td>\n",
       "      <td>Reproductor MP5</td>\n",
       "      <td>El nombre MP5 es un término comercial para el ...</td>\n",
       "      <td>71965</td>\n",
       "      <td>0</td>\n",
       "      <td>99</td>\n",
       "    </tr>\n",
       "    <tr>\n",
       "      <th>21</th>\n",
       "      <td>5163801#0</td>\n",
       "      <td>Azul marino</td>\n",
       "      <td>Azul marino es un color azul oscuro o una vari...</td>\n",
       "      <td>183732</td>\n",
       "      <td>0</td>\n",
       "      <td>61</td>\n",
       "    </tr>\n",
       "    <tr>\n",
       "      <th>27</th>\n",
       "      <td>5163804#0</td>\n",
       "      <td>Toftavatn</td>\n",
       "      <td>El Toftavatn es un pequeño lago de las Islas F...</td>\n",
       "      <td>1220</td>\n",
       "      <td>0</td>\n",
       "      <td>32</td>\n",
       "    </tr>\n",
       "  </tbody>\n",
       "</table>\n",
       "</div>"
      ],
      "text/plain": [
       "        docid                 title  \\\n",
       "0   5163778#0  Yaxcopoil (Yaxkukul)   \n",
       "3   5163785#0      Método de ensayo   \n",
       "10  5163789#0       Reproductor MP5   \n",
       "21  5163801#0           Azul marino   \n",
       "27  5163804#0             Toftavatn   \n",
       "\n",
       "                                                 text   views  chunk_number  \\\n",
       "0   Yaxcopoil, es una localidad del estado de Yuca...    1948             0   \n",
       "3   Un método de prueba o método de ensayo, es un ...   83166             0   \n",
       "10  El nombre MP5 es un término comercial para el ...   71965             0   \n",
       "21  Azul marino es un color azul oscuro o una vari...  183732             0   \n",
       "27  El Toftavatn es un pequeño lago de las Islas F...    1220             0   \n",
       "\n",
       "    n_words  \n",
       "0        14  \n",
       "3        58  \n",
       "10       99  \n",
       "21       61  \n",
       "27       32  "
      ]
     },
     "execution_count": 14,
     "metadata": {},
     "output_type": "execute_result"
    }
   ],
   "source": [
    "# Keep 1st chunk of each article:\n",
    "df_candidates = df_full.query(\"chunk_number in [0]\").copy()\n",
    "\n",
    "# Keep only articles with at least 1 view (TODO revisar):\n",
    "df_candidates = df_candidates.query(\"views > 0\").copy()\n",
    "\n",
    "# Number of words in each chunk:\n",
    "df_candidates[\"n_words\"] = df_candidates[\"text\"].str.split().str.len()\n",
    "\n",
    "df_candidates.head()"
   ]
  },
  {
   "cell_type": "code",
   "execution_count": 15,
   "metadata": {},
   "outputs": [
    {
     "name": "stdout",
     "output_type": "stream",
     "text": [
      "0.041493217850904804\n"
     ]
    },
    {
     "data": {
      "text/plain": [
       "array(['La denominación Real Fábrica de Tabacos puede hacer referencia a:',\n",
       "       'El nombre Pend Oreille\" (del francés \"pend d\\'oreilles\", \"cuelga de las orejas\") puede referirse a:',\n",
       "       'Holacanthus es un género de peces marinos de la familia Pomacanthidae. Comúnmente se denominan peces ángel. El Registro Mundial de Especies Marinas reconoce las siguientes especies en el género, cuyo estado de conservación valora la Lista Roja de Especies Amenazadas:',\n",
       "       'Energía solar de concentración puede hacer referencia a:',\n",
       "       'Sharrock puede hacer referencia a:',\n",
       "       'Juan Ignacio González puede referirse a:',\n",
       "       'En física (específicamente en teoría cinética), la relación de Einstein (también conocida como relación de Einstein-Smoluchowski) determina la constante de difusión de una partícula en el estudio del movimiento browniano, mediante la siguiente ecuación:',\n",
       "       'Con el término Cable plano podemos referirnos a:',\n",
       "       'Varner puede referirse a:',\n",
       "       'Punta Arenas o Punta de Arenas puede referirse a los siguientes lugares:'],\n",
       "      dtype=object)"
      ]
     },
     "execution_count": 15,
     "metadata": {},
     "output_type": "execute_result"
    }
   ],
   "source": [
    "# Chunks ending in ':' or ':\"' seem to introduce lists of items:\n",
    "mask = df_candidates[\"text\"].str.contains(r':.{0,1}$', regex=True)\n",
    "print(mask.mean())\n",
    "df_candidates[mask][\"text\"].values[:10]"
   ]
  },
  {
   "cell_type": "code",
   "execution_count": 16,
   "metadata": {},
   "outputs": [],
   "source": [
    "# We remove them:\n",
    "df_candidates = df_candidates[~mask].copy()"
   ]
  },
  {
   "cell_type": "code",
   "execution_count": 17,
   "metadata": {},
   "outputs": [
    {
     "name": "stdout",
     "output_type": "stream",
     "text": [
      "fraction of desambiguacion articles 0.000384932636788562\n",
      "\n",
      "Title: Rutland (desambiguación)\n",
      "Rutland es el más pequeño de los condados tradicionales de Inglaterra.\n",
      "\n",
      "Title: Caledonia (desambiguación)\n",
      "Caledonia era el nombre latino de Escocia.\n",
      "\n",
      "Title: Cabo Polonio (desambiguación)\n",
      "Cabo Polonio puede significar: Otros, en cambio, afirman que se debió a otro hundimiento, pocos años más tarde, el 31 de\n",
      "enero de 1753. El barco se llamaba \"Nuestra Señora del Rosario, Señor de San José y las Ánimas\". Su capitán, Joseph\n",
      "Polloni, era famoso por su afición a los vinos que consumía en exceso encerrado en su camarote. Quizá por este motivo se\n",
      "produjo el naufragio.\n"
     ]
    }
   ],
   "source": [
    "# Articulos de desambiguación:\n",
    "mask = df_candidates[\"title\"].str.contains(\"(desambiguación)\", regex=False)\n",
    "print(\"fraction of desambiguacion articles\", mask.mean())\n",
    "df_tmp = df_candidates[mask]\n",
    "for i, row in df_tmp.iloc[:3].iterrows():\n",
    "    print()\n",
    "    print(\"Title:\", row[\"title\"])\n",
    "    print(textwrap.fill(row[\"text\"], 120))"
   ]
  },
  {
   "cell_type": "code",
   "execution_count": 18,
   "metadata": {},
   "outputs": [
    {
     "data": {
      "text/html": [
       "<div>\n",
       "<style scoped>\n",
       "    .dataframe tbody tr th:only-of-type {\n",
       "        vertical-align: middle;\n",
       "    }\n",
       "\n",
       "    .dataframe tbody tr th {\n",
       "        vertical-align: top;\n",
       "    }\n",
       "\n",
       "    .dataframe thead th {\n",
       "        text-align: right;\n",
       "    }\n",
       "</style>\n",
       "<table border=\"1\" class=\"dataframe\">\n",
       "  <thead>\n",
       "    <tr style=\"text-align: right;\">\n",
       "      <th></th>\n",
       "      <th>docid</th>\n",
       "      <th>title</th>\n",
       "      <th>text</th>\n",
       "      <th>views</th>\n",
       "      <th>chunk_number</th>\n",
       "      <th>n_words</th>\n",
       "    </tr>\n",
       "  </thead>\n",
       "  <tbody>\n",
       "    <tr>\n",
       "      <th>1739268</th>\n",
       "      <td>30387#0</td>\n",
       "      <td>Israel (desambiguación)</td>\n",
       "      <td>Israel es un nombre hebreo (ישׂראל, \"Yisra'el\"...</td>\n",
       "      <td>160955</td>\n",
       "      <td>0</td>\n",
       "      <td>69</td>\n",
       "    </tr>\n",
       "    <tr>\n",
       "      <th>2527307</th>\n",
       "      <td>384773#0</td>\n",
       "      <td>Avatar (desambiguación)</td>\n",
       "      <td>Avatar (del sánscrito avatāra: descendiente, a...</td>\n",
       "      <td>113441</td>\n",
       "      <td>0</td>\n",
       "      <td>25</td>\n",
       "    </tr>\n",
       "    <tr>\n",
       "      <th>10335765</th>\n",
       "      <td>895733#0</td>\n",
       "      <td>Pez (desambiguación)</td>\n",
       "      <td>Pez generalmente se refiere a cada uno de los ...</td>\n",
       "      <td>107439</td>\n",
       "      <td>0</td>\n",
       "      <td>17</td>\n",
       "    </tr>\n",
       "    <tr>\n",
       "      <th>5183777</th>\n",
       "      <td>7465584#0</td>\n",
       "      <td>LATAM (desambiguación)</td>\n",
       "      <td>Latam es un acrónimo en español que correspond...</td>\n",
       "      <td>98797</td>\n",
       "      <td>0</td>\n",
       "      <td>12</td>\n",
       "    </tr>\n",
       "    <tr>\n",
       "      <th>2943405</th>\n",
       "      <td>594404#0</td>\n",
       "      <td>Magazine (desambiguación)</td>\n",
       "      <td>Magazine es una voz inglesa que significa «rev...</td>\n",
       "      <td>71044</td>\n",
       "      <td>0</td>\n",
       "      <td>18</td>\n",
       "    </tr>\n",
       "    <tr>\n",
       "      <th>7800025</th>\n",
       "      <td>4639316#0</td>\n",
       "      <td>UK (desambiguación)</td>\n",
       "      <td>UK es la sigla de United Kingdom, nombre en in...</td>\n",
       "      <td>67751</td>\n",
       "      <td>0</td>\n",
       "      <td>25</td>\n",
       "    </tr>\n",
       "    <tr>\n",
       "      <th>7407546</th>\n",
       "      <td>4286009#0</td>\n",
       "      <td>UNAM (desambiguación)</td>\n",
       "      <td>El término UNAM es una sigla o acrónimo que pu...</td>\n",
       "      <td>66148</td>\n",
       "      <td>0</td>\n",
       "      <td>29</td>\n",
       "    </tr>\n",
       "    <tr>\n",
       "      <th>1011035</th>\n",
       "      <td>1793951#0</td>\n",
       "      <td>Sigma (desambiguación)</td>\n",
       "      <td>Sigma (Σ σ ς) es la decimoctava letra del alfa...</td>\n",
       "      <td>63904</td>\n",
       "      <td>0</td>\n",
       "      <td>11</td>\n",
       "    </tr>\n",
       "    <tr>\n",
       "      <th>3473574</th>\n",
       "      <td>195858#0</td>\n",
       "      <td>Libélula (desambiguación)</td>\n",
       "      <td>Libélula se puede referir a</td>\n",
       "      <td>60957</td>\n",
       "      <td>0</td>\n",
       "      <td>5</td>\n",
       "    </tr>\n",
       "    <tr>\n",
       "      <th>7624607</th>\n",
       "      <td>4471959#0</td>\n",
       "      <td>Velázquez (desambiguación)</td>\n",
       "      <td>Velázquez o Velásquez es un apellido de origen...</td>\n",
       "      <td>58963</td>\n",
       "      <td>0</td>\n",
       "      <td>23</td>\n",
       "    </tr>\n",
       "  </tbody>\n",
       "</table>\n",
       "</div>"
      ],
      "text/plain": [
       "              docid                       title  \\\n",
       "1739268     30387#0     Israel (desambiguación)   \n",
       "2527307    384773#0     Avatar (desambiguación)   \n",
       "10335765   895733#0        Pez (desambiguación)   \n",
       "5183777   7465584#0      LATAM (desambiguación)   \n",
       "2943405    594404#0   Magazine (desambiguación)   \n",
       "7800025   4639316#0         UK (desambiguación)   \n",
       "7407546   4286009#0       UNAM (desambiguación)   \n",
       "1011035   1793951#0      Sigma (desambiguación)   \n",
       "3473574    195858#0   Libélula (desambiguación)   \n",
       "7624607   4471959#0  Velázquez (desambiguación)   \n",
       "\n",
       "                                                       text   views  \\\n",
       "1739268   Israel es un nombre hebreo (ישׂראל, \"Yisra'el\"...  160955   \n",
       "2527307   Avatar (del sánscrito avatāra: descendiente, a...  113441   \n",
       "10335765  Pez generalmente se refiere a cada uno de los ...  107439   \n",
       "5183777   Latam es un acrónimo en español que correspond...   98797   \n",
       "2943405   Magazine es una voz inglesa que significa «rev...   71044   \n",
       "7800025   UK es la sigla de United Kingdom, nombre en in...   67751   \n",
       "7407546   El término UNAM es una sigla o acrónimo que pu...   66148   \n",
       "1011035   Sigma (Σ σ ς) es la decimoctava letra del alfa...   63904   \n",
       "3473574                         Libélula se puede referir a   60957   \n",
       "7624607   Velázquez o Velásquez es un apellido de origen...   58963   \n",
       "\n",
       "          chunk_number  n_words  \n",
       "1739268              0       69  \n",
       "2527307              0       25  \n",
       "10335765             0       17  \n",
       "5183777              0       12  \n",
       "2943405              0       18  \n",
       "7800025              0       25  \n",
       "7407546              0       29  \n",
       "1011035              0       11  \n",
       "3473574              0        5  \n",
       "7624607              0       23  "
      ]
     },
     "execution_count": 18,
     "metadata": {},
     "output_type": "execute_result"
    }
   ],
   "source": [
    "df_tmp.sort_values(\"views\", ascending=False).head(10)"
   ]
  },
  {
   "cell_type": "code",
   "execution_count": 19,
   "metadata": {},
   "outputs": [
    {
     "data": {
      "text/html": [
       "<div>\n",
       "<style scoped>\n",
       "    .dataframe tbody tr th:only-of-type {\n",
       "        vertical-align: middle;\n",
       "    }\n",
       "\n",
       "    .dataframe tbody tr th {\n",
       "        vertical-align: top;\n",
       "    }\n",
       "\n",
       "    .dataframe thead th {\n",
       "        text-align: right;\n",
       "    }\n",
       "</style>\n",
       "<table border=\"1\" class=\"dataframe\">\n",
       "  <thead>\n",
       "    <tr style=\"text-align: right;\">\n",
       "      <th></th>\n",
       "      <th>docid</th>\n",
       "      <th>title</th>\n",
       "      <th>text</th>\n",
       "      <th>views</th>\n",
       "      <th>chunk_number</th>\n",
       "      <th>n_words</th>\n",
       "    </tr>\n",
       "  </thead>\n",
       "  <tbody>\n",
       "    <tr>\n",
       "      <th>1735199</th>\n",
       "      <td>29752#0</td>\n",
       "      <td>Σ</td>\n",
       "      <td>Sigma (Σ σ ς) es la decimoctava letra del alfa...</td>\n",
       "      <td>603165</td>\n",
       "      <td>0</td>\n",
       "      <td>39</td>\n",
       "    </tr>\n",
       "    <tr>\n",
       "      <th>6048685</th>\n",
       "      <td>259493#0</td>\n",
       "      <td>Σ-álgebra</td>\n",
       "      <td>En matemática, una formula_1-álgebra (léase \"s...</td>\n",
       "      <td>110057</td>\n",
       "      <td>0</td>\n",
       "      <td>51</td>\n",
       "    </tr>\n",
       "    <tr>\n",
       "      <th>9599454</th>\n",
       "      <td>8598012#0</td>\n",
       "      <td>The Day of Σ</td>\n",
       "      <td>The Day of Σ (The Day of Sigma) es una OVA pro...</td>\n",
       "      <td>3999</td>\n",
       "      <td>0</td>\n",
       "      <td>52</td>\n",
       "    </tr>\n",
       "  </tbody>\n",
       "</table>\n",
       "</div>"
      ],
      "text/plain": [
       "             docid         title  \\\n",
       "1735199    29752#0             Σ   \n",
       "6048685   259493#0     Σ-álgebra   \n",
       "9599454  8598012#0  The Day of Σ   \n",
       "\n",
       "                                                      text   views  \\\n",
       "1735199  Sigma (Σ σ ς) es la decimoctava letra del alfa...  603165   \n",
       "6048685  En matemática, una formula_1-álgebra (léase \"s...  110057   \n",
       "9599454  The Day of Σ (The Day of Sigma) es una OVA pro...    3999   \n",
       "\n",
       "         chunk_number  n_words  \n",
       "1735199             0       39  \n",
       "6048685             0       51  \n",
       "9599454             0       52  "
      ]
     },
     "execution_count": 19,
     "metadata": {},
     "output_type": "execute_result"
    }
   ],
   "source": [
    "# mask = df_candidates[\"title\"].str.contains(\"Sigma\")\n",
    "mask = df_candidates[\"title\"].str.contains(\"Σ\")\n",
    "df_candidates[mask].sort_values(\"views\", ascending=False).head(10)"
   ]
  },
  {
   "cell_type": "code",
   "execution_count": 20,
   "metadata": {},
   "outputs": [],
   "source": [
    "# We remove \"desambiguación\" articles:\n",
    "mask = df_candidates[\"title\"].str.contains(\"desambiguación\", regex=False)\n",
    "df_candidates = df_candidates[~mask].copy()"
   ]
  },
  {
   "cell_type": "code",
   "execution_count": 21,
   "metadata": {},
   "outputs": [
    {
     "name": "stdout",
     "output_type": "stream",
     "text": [
      "Fraction of chunks not ending with . --> 0.019148446461113154\n",
      "\n",
      "La versión femenina del Torneo Clausura 2012 fue la que cerró la vigésima segunda temporada del Campeonato Femenino de\n",
      "Fútbol de Argentina, desarrollada entre el 16 de abril y el 24 de junio. Fue organizado por la Asociación del Fútbol\n",
      "Argentino\n",
      "\n",
      "Fufius es un género de arañas migalomorfas de la familia Cyrtaucheniidae. Se encuentra en Sudamérica, Centroamérica e\n",
      "isla Trinidad\n",
      "\n",
      "Deinopis es un género de arañas araneomorfas de la familia Deinopidae. Se encuentra en América, África, Asia y Oceanía.\n",
      "También son conocidas como araña cara de ogro\n",
      "\n",
      "Pitonga woolowa es una especie de araña araneomorfa de la familia Desidae. Es la única especie del género monotípico\n",
      "Pitonga. Es nativa de Australia, también se puede confundir con Lady Gaga\n",
      "\n",
      "Margherita Grandi (10 de octubre de 1894, Harwood Island, Australia- 29 de enero de 1972, Milán, Italia) nacida Margaret\n",
      "Gard fue una soprano lírico-spinto australiana de carrera europea, especialmente en el Reino Unido e Italia.\n",
      "Prácticamente olvidada, de acuerdo a fuentes críticas británicas, como Desmond Taylor, Lord Harewood y Alan Blyth fue\n",
      "una de las voces más importantes de su era\n",
      "\n",
      "The Volume of Self es el primer y único álbum de Twin Method, lanzado el 13 de junio de 2006\n",
      "\n",
      "\"De Neil Perry para The Band Perry, véase The Band Perry\"\n",
      "\n",
      "Sinkang Shan es una montaña en Taiwán, con una altura de 3 335 m. Es parte del parque nacional de Yushan, que incluye\n",
      "las montañas Siouguluan, Mabolasih, Dafenjian, Yu Shan, y Guan\n",
      "\n",
      "«Silenced By The Night» —en español: «Silenciado Por La Noche»— es una canción interpretada por la banda británica de\n",
      "rock alternativo Keane, incluido en su cuarto álbum de estudio, Strangeland. Fue lanzado en todo el mundo, como primer\n",
      "sencillo del álbum el 13 de marzo de 2012, a excepción del Reino Unido, donde se dio a conocer el 15 de abril de 2012.\n",
      "La canción fue escrita por Tim Rice-Oxley, Tom Chaplin, Richard Hughes y Jesse Quin, y producida por Dan Grech-Marguerat\n",
      "\n",
      "Diego Ignacio Cuéllar Vázquez (Chile, 22 de noviembre de 1986) es un futbolista chileno. Juega como delantero y\n",
      "actualmente milita en Lautaro de Buin de la Segunda División Profesional de Chile. El delantero se posiciona como el\n",
      "máximo goleador histórico de la Segunda División Profesional del Fútbol Chileno\n"
     ]
    }
   ],
   "source": [
    "# Chunks not ending with \".\":\n",
    "mask = ~df_candidates[\"text\"].str.endswith(\".\")\n",
    "print(\"Fraction of chunks not ending with . -->\", mask.mean())\n",
    "txts = df_candidates[mask][\"text\"].values[:10]\n",
    "for txt in txts:\n",
    "    print()\n",
    "    print(textwrap.fill(txt, 120))"
   ]
  },
  {
   "cell_type": "code",
   "execution_count": 32,
   "metadata": {},
   "outputs": [
    {
     "name": "stdout",
     "output_type": "stream",
     "text": [
      "Percentile 1: 10.0\n",
      "Percentile 99: 176.0\n"
     ]
    },
    {
     "data": {
      "image/png": "[encoded data removed]",
      "text/plain": [
       "<Figure size 800x300 with 1 Axes>"
      ]
     },
     "metadata": {},
     "output_type": "display_data"
    }
   ],
   "source": [
    "# Histogram of number of words with percentile lines:  \n",
    "fig, ax = plt.subplots(figsize=(8, 3))\n",
    "df_candidates[\"n_words\"].hist(ax=ax, bins=100)\n",
    "# plt.xscale(\"log\")\n",
    "# plt.yscale(\"log\")\n",
    "for p in [1, 99]:\n",
    "    ax.axvline(df_candidates[\"n_words\"].quantile(p/100), color=\"red\", linestyle=\"--\")\n",
    "    print(f\"Percentile {p}: {df_candidates['n_words'].quantile(p/100)}\")\n",
    "plt.show()\n"
   ]
  },
  {
   "cell_type": "code",
   "execution_count": 33,
   "metadata": {},
   "outputs": [
    {
     "data": {
      "text/plain": [
       "array(['Yaxcopoil, es una localidad del estado de Yucatán, México, perteneciente al municipio de Yaxkukul.',\n",
       "       'Umwani es un género de arañas araneomorfas de la familia Cyatholipidae. Se encuentra en Tanzania y Malaui.',\n",
       "       'La Verdad fue un periódico bisemanal publicado en Vigo en 1881.',\n",
       "       'Limburgo del Lahn (oficialmente en alemán \"Limburg an der Lahn\") es la capital del distrito de Limburg-Weilburg en Hesse, Alemania.',\n",
       "       'Chaetodontoplus es un género de peces marinos de la familia Pomacanthidae.',\n",
       "       'Genicanthus es un género de peces marinos de la familia Pomacanthidae.',\n",
       "       'Terrence Kaufman es un lingüista estadounidense.',\n",
       "       'Julio Bañados Espinosa (Valparaíso, 18 de abril de 1858-Santiago, 17 de febrero de 1899) fue un abogado y político chileno.',\n",
       "       'Avicularia affinis es una especie de araña que pertenece a la familia Theraphosidae (tarántulas). Se encuentra en Chile.',\n",
       "       'José Antonio Mora Otero (Montevideo, 22 de noviembre de 1897 - 22 de enero de 1975) fue un diplomático uruguayo.'],\n",
       "      dtype=object)"
      ]
     },
     "execution_count": 33,
     "metadata": {},
     "output_type": "execute_result"
    }
   ],
   "source": [
    "# Some small chunks:\n",
    "df_candidates.query(\"n_words <= 20\")[\"text\"].values[:10]"
   ]
  },
  {
   "cell_type": "code",
   "execution_count": 36,
   "metadata": {},
   "outputs": [
    {
     "name": "stdout",
     "output_type": "stream",
     "text": [
      "Title: Tony Hunter\n",
      "\t Tony Hunter (Kent, Reino Unido, 1943) es un oncólogo británico.\n",
      "Title: HQI Transelec\n",
      "\t Transelec S.A. es una empresa chilena de transmisión eléctrica.\n",
      "Title: Matrículas automovilísticas de Perú\n",
      "\t Ver también Matrícula (automóviles)\n",
      "Title: Carlos Romero Muñoz\n",
      "\t Carlos Romero Muñoz, es un filólogo y cervantista español.\n",
      "Title: Extensión\n",
      "\t Extensión puede hacer referencia a los siguientes conceptos: extenderse\n",
      "Title: Universo fantástico de Warcraft\n",
      "\t \"Este artículo refiere a la fantasía propia de Warcraft.\"\n"
     ]
    }
   ],
   "source": [
    "# Smaller chunks:\n",
    "df_tmp = df_candidates.query(\"n_words <= 10\").iloc[-6:]\n",
    "for title, text in zip(df_tmp[\"title\"].values, df_tmp[\"text\"].values):\n",
    "    print(\"Title:\", title)\n",
    "    print(\"\\t\", textwrap.fill(text, 120))"
   ]
  },
  {
   "cell_type": "code",
   "execution_count": 38,
   "metadata": {},
   "outputs": [
    {
     "name": "stdout",
     "output_type": "stream",
     "text": [
      "Fraction of chunks starting with \" --> 0.003140084705144402\n",
      "\t \"De Neil Perry para The Band Perry, véase The Band Perry\"\n",
      "\t \"Taínos\" es una película del 2005 filmada en Puerto Rico. El filme fue escrito y dirigido por Benjamín López. El guion\n",
      "de suspenso sigue a Sara Cordero (Miró), una joven estudiante de arqueóloga, que organiza una expedición a la Cueva de\n",
      "Mora en el municipio de Comerío con su hermana con su mejor amiga y Harold su pareja (antagonista de la película). Un\n",
      "joven llamado Yabey (Reyes) quien se ofrece a guiar a su expedición. Como se aventuraron más en el bosque, descubren una\n",
      "tribu de indios taínos que viven lejos de la civilización. Este evento y otras circunstancias desencadenar una serie de\n",
      "conflictos que dividen y ponen en peligro a todo el grupo. También se le conoce como \"\"La Última Tribu\"\"\n",
      "\t \"«Siboney»\" es una canción cubana de 1929, compuesta por Ernesto Lecuona. La canción sirvió como inspiración para la\n",
      "película mexicano-cubana \"Siboney\" (1938), dirigida por Juan Orol y protagonizada por María Antonieta Pons.\n",
      "\t \"Stockholm i mitt hjärta\" (\"Estocolmo en mi corazón\") es una canción de vispop de Lasse Berghagen, que escribió la\n",
      "canción cuando Ulf Adelsohn quería una nueva canción de Estocolmo cuando él fue gobernador de la Provincia de Estocolmo\n",
      "en 1992. Berghagen grabado la canción en Svensktoppen el 7 de agosto de 1993 y terminó en décimo lugar. La canción es en\n",
      "los álbumes de Berghagen \"Sträck ut din hand\" (1995) y \"Stockholm, mina drömmars stad\" (2002).\n",
      "\t \"Chalmuch\" es una subcomisaría del municipio de Mérida en el estado de Yucatán localizado en el sureste de México.\n"
     ]
    }
   ],
   "source": [
    "# Chunks starting with \":\n",
    "mask = df_candidates[\"text\"].str.startswith('\"')\n",
    "print(\"Fraction of chunks starting with \\\" -->\", mask.mean())\n",
    "txts = df_candidates[mask][\"text\"].values[:5]\n",
    "for txt in txts:\n",
    "    print(\"\\t\", textwrap.fill(txt, 120))"
   ]
  },
  {
   "cell_type": "code",
   "execution_count": 44,
   "metadata": {},
   "outputs": [
    {
     "name": "stdout",
     "output_type": "stream",
     "text": [
      "Generación Y\n",
      "La generación Y, también conocida como generación del milenio o milénica —del inglés \"millennial generation\"—, es la\n",
      "cohorte demográfica que sigue a la generación X y precede a la generación Z. No hay precisión o consenso respecto a las\n",
      "fechas de inicio y fin de esta generación; los demógrafos e investigadores suelen utilizar los primeros años de la\n",
      "década de 1980 como años de inicio del nacimiento y de finales de la década de 1990 a principios de la de 2000 como años\n",
      "de finalización del nacimiento. A los milénicos se les llama a veces \"eco boomers\" debido a un aumento importante de las\n",
      "tasas de natalidad en las décadas de 1980 y 1990, y porque los milénicos son, a menudo, los hijos de los \"baby boomers\".\n",
      "Aunque las características milénicas varían de una región a otra, dependiendo de las condiciones sociales, económicas y\n",
      "culturales (puede haber jóvenes que, sin posibilidad de acceso a las tecnologías digitales, presenten unas competencias\n",
      "muy limitadas o nulas), la generación ha estado generalmente marcada por un mayor uso y familiaridad con las\n",
      "comunicaciones, los medios de comunicación y las tecnologías digitales. Se estima que la generación Y corresponde al\n",
      "22,4% de la población mundial.\n",
      "\n",
      "Peste negra\n",
      "La peste negra o muerte negra fue la pandemia de peste más devastadora de la historia de la humanidad, que afectó a\n",
      "Eurasia en el y que alcanzó un punto máximo entre 1347 y 1353. Es difícil conocer el número de fallecidos, pero modelos\n",
      "contemporáneos los calculan entre 80 a 200 millones en Eurasia y África del Norte. Habría provocado la muerte de entre\n",
      "el 30% y el 60% de la población de Europa, siendo un tercio una estimación muy optimista. La teoría aceptada sobre el\n",
      "origen de la peste explica que fue un brote causado por una variante de la bacteria \"Yersinia pestis\".V. J. Schuenemann,\n",
      "K. Bos, S. DeWitte, S. Schmedes, J. Jamieson, A. Mittnik, S. Forrest, B. K. Coombes, J. W. Wood, D. J. D. Earn, W.\n",
      "White, J. Krause, H. N. Poinar: \"PNAS Plus: Targeted enrichment of ancient pathogens yielding the pPCP1 plasmid of\n",
      "Yersinia pestis from victims of the Black Death.\" In: \"Proceedings of the National Academy of Sciences.\", S. , . Es\n",
      "común que la palabra «peste» se utilice como sinónimo de «muerte negra», aun cuando aquella deriva del latín «\"pestis\"»,\n",
      "es decir, «enfermedad» o «epidemia», y no del agente patógeno.\n",
      "\n",
      "Ilustración\n",
      "La Ilustración fue un movimiento cultural e intelectual, primordialmente europeo, que nació a mediados del siglo XVIII y\n",
      "duró hasta los primeros años del siglo XIX. Fue especialmente activo en Inglaterra, Francia y Alemania. Inspiró\n",
      "profundos cambios culturales y sociales, y uno de los más drásticos fue la Revolución francesa. Se denominó de este modo\n",
      "\"por su declarada finalidad de disipar las tinieblas de la ignorancia de la humanidad mediante las luces del\n",
      "conocimiento y la razón.\" Existió también una importante Ilustración española e hispánica, la de la Escuela\n",
      "Universalista, aunque más científica y humanística que política. El siglo XVIII es conocido, por estos motivos, como el\n",
      "Siglo de las Luces y del asentamiento de la fe en el progreso. Importantes ideas como la de búsqueda de la felicidad, la\n",
      "soberanía de la razón, y la evidencia de los sentidos como fuentes primarias del aprendizaje nacieron durante esta\n",
      "época. Ideales tales como la libertad, Igualdad, el progreso, la tolerancia , la fraternidad, el gobierno\n",
      "constitucional, y la Separación Iglesia-Estado tienen su nacimiento también en esta época.\n",
      "\n"
     ]
    }
   ],
   "source": [
    "# Long chunks:\n",
    "df_tmp = df_candidates.query(\"n_words > 175\").sort_values(\"views\", ascending=False).iloc[:3]\n",
    "for title, text in zip(df_tmp[\"title\"].values, df_tmp[\"text\"].values):\n",
    "    print(title)\n",
    "    print(textwrap.fill(text, 120))\n",
    "    print()"
   ]
  },
  {
   "cell_type": "code",
   "execution_count": 42,
   "metadata": {},
   "outputs": [
    {
     "name": "stdout",
     "output_type": "stream",
     "text": [
      "N words p1: 10.0\n",
      "Views p1: 76.0\n",
      "N words p99: 176.0\n",
      "Views p99: 778572.8499999982\n"
     ]
    },
    {
     "data": {
      "image/png": "[encoded data removed]",
      "text/plain": [
       "<Figure size 640x480 with 1 Axes>"
      ]
     },
     "metadata": {},
     "output_type": "display_data"
    }
   ],
   "source": [
    "# Scatter plot of views vs n_words with percentile lines (1,99) in both axes:\n",
    "fig, ax = plt.subplots()\n",
    "df_candidates.plot.scatter(x=\"n_words\", y=\"views\", ax=ax, alpha=0.1, s=1)\n",
    "plt.xscale(\"log\")\n",
    "plt.yscale(\"log\")\n",
    "for p in [1, 99]:\n",
    "    ax.axvline(df_candidates[\"n_words\"].quantile(p/100), color=\"red\")\n",
    "    ax.axhline(df_candidates[\"views\"].quantile(p/100), color=\"red\")\n",
    "    print(f\"N words p{p}: {df_candidates['n_words'].quantile(p/100)}\")\n",
    "    print(f\"Views p{p}: {df_candidates['views'].quantile(p/100)}\")\n",
    "plt.show()\n"
   ]
  },
  {
   "cell_type": "code",
   "execution_count": 45,
   "metadata": {},
   "outputs": [
    {
     "data": {
      "text/plain": [
       "(0.15751704409650163, 0.005836915407407969)"
      ]
     },
     "execution_count": 45,
     "metadata": {},
     "output_type": "execute_result"
    }
   ],
   "source": [
    "# % of articles with less than 20 words or more than 200 words:\n",
    "(df_candidates[\"n_words\"] < 20).mean(), (df_candidates[\"n_words\"] > 200).mean()"
   ]
  },
  {
   "cell_type": "code",
   "execution_count": 50,
   "metadata": {},
   "outputs": [
    {
     "name": "stdout",
     "output_type": "stream",
     "text": [
      "[0.         1.75       2.         2.25       2.5        2.75\n",
      " 3.         3.25       3.5        3.75       4.         4.25\n",
      " 4.5        4.75       5.         5.25       5.5        5.75\n",
      " 6.         7.78456656]\n"
     ]
    }
   ],
   "source": [
    "# Keep chunks between 10 and 200 words:\n",
    "df_candidates_final = df_candidates.query(\"n_words >= 10 and n_words <= 200\").copy()\n",
    "\n",
    "# Chunk: title + text\n",
    "df_candidates_final[\"chunk\"] = (\n",
    "    df_candidates_final[\"title\"] + \". \" + df_candidates_final[\"text\"]\n",
    ")\n",
    "# Crate views bin (log10):\n",
    "bins = np.arange(0, 9, 0.25)\n",
    "bins[bins > 6] = max(np.log10(df_candidates_final[\"views\"]))\n",
    "bins[bins < 1.75] = min(np.log10(df_candidates_final[\"views\"]))\n",
    "bins = np.unique(bins)\n",
    "print(bins)\n",
    "df_candidates_final[\"views_bin\"] = pd.cut(\n",
    "    np.log10(df_candidates_final[\"views\"]),\n",
    "    bins=bins,\n",
    "    right=True,\n",
    "    include_lowest=True,\n",
    "    precision=2,\n",
    ")\n",
    "# keep only chunk and views:\n",
    "df_candidates_final = df_candidates_final[[\"chunk\", \"views\", \"views_bin\"]].copy()"
   ]
  },
  {
   "cell_type": "code",
   "execution_count": 51,
   "metadata": {},
   "outputs": [
    {
     "data": {
      "text/plain": [
       "views_bin\n",
       "(-0.01, 1.75]      9341\n",
       "(1.75, 2.0]       14675\n",
       "(2.0, 2.25]       18071\n",
       "(2.25, 2.5]       26157\n",
       "(2.5, 2.75]       54528\n",
       "(2.75, 3.0]      184735\n",
       "(3.0, 3.25]      221453\n",
       "(3.25, 3.5]      212625\n",
       "(3.5, 3.75]      187095\n",
       "(3.75, 4.0]      156023\n",
       "(4.0, 4.25]      127132\n",
       "(4.25, 4.5]       99869\n",
       "(4.5, 4.75]       77118\n",
       "(4.75, 5.0]       57020\n",
       "(5.0, 5.25]       41081\n",
       "(5.25, 5.5]       28605\n",
       "(5.5, 5.75]       18998\n",
       "(5.75, 6.0]       11689\n",
       "(6.0, 7.78]       11278\n",
       "Name: count, dtype: int64"
      ]
     },
     "execution_count": 51,
     "metadata": {},
     "output_type": "execute_result"
    }
   ],
   "source": [
    "df_candidates_final[\"views_bin\"].value_counts().sort_index()"
   ]
  },
  {
   "cell_type": "code",
   "execution_count": 53,
   "metadata": {},
   "outputs": [
    {
     "data": {
      "text/html": [
       "<div>\n",
       "<style scoped>\n",
       "    .dataframe tbody tr th:only-of-type {\n",
       "        vertical-align: middle;\n",
       "    }\n",
       "\n",
       "    .dataframe tbody tr th {\n",
       "        vertical-align: top;\n",
       "    }\n",
       "\n",
       "    .dataframe thead th {\n",
       "        text-align: right;\n",
       "    }\n",
       "</style>\n",
       "<table border=\"1\" class=\"dataframe\">\n",
       "  <thead>\n",
       "    <tr style=\"text-align: right;\">\n",
       "      <th></th>\n",
       "      <th>chunk</th>\n",
       "      <th>views</th>\n",
       "      <th>views_bin</th>\n",
       "    </tr>\n",
       "  </thead>\n",
       "  <tbody>\n",
       "    <tr>\n",
       "      <th>0</th>\n",
       "      <td>Yaxcopoil (Yaxkukul). Yaxcopoil, es una locali...</td>\n",
       "      <td>1948</td>\n",
       "      <td>(3.25, 3.5]</td>\n",
       "    </tr>\n",
       "    <tr>\n",
       "      <th>3</th>\n",
       "      <td>Método de ensayo. Un método de prueba o método...</td>\n",
       "      <td>83166</td>\n",
       "      <td>(4.75, 5.0]</td>\n",
       "    </tr>\n",
       "    <tr>\n",
       "      <th>10</th>\n",
       "      <td>Reproductor MP5. El nombre MP5 es un término c...</td>\n",
       "      <td>71965</td>\n",
       "      <td>(4.75, 5.0]</td>\n",
       "    </tr>\n",
       "    <tr>\n",
       "      <th>21</th>\n",
       "      <td>Azul marino. Azul marino es un color azul oscu...</td>\n",
       "      <td>183732</td>\n",
       "      <td>(5.25, 5.5]</td>\n",
       "    </tr>\n",
       "    <tr>\n",
       "      <th>27</th>\n",
       "      <td>Toftavatn. El Toftavatn es un pequeño lago de ...</td>\n",
       "      <td>1220</td>\n",
       "      <td>(3.0, 3.25]</td>\n",
       "    </tr>\n",
       "  </tbody>\n",
       "</table>\n",
       "</div>"
      ],
      "text/plain": [
       "                                                chunk   views    views_bin\n",
       "0   Yaxcopoil (Yaxkukul). Yaxcopoil, es una locali...    1948  (3.25, 3.5]\n",
       "3   Método de ensayo. Un método de prueba o método...   83166  (4.75, 5.0]\n",
       "10  Reproductor MP5. El nombre MP5 es un término c...   71965  (4.75, 5.0]\n",
       "21  Azul marino. Azul marino es un color azul oscu...  183732  (5.25, 5.5]\n",
       "27  Toftavatn. El Toftavatn es un pequeño lago de ...    1220  (3.0, 3.25]"
      ]
     },
     "execution_count": 53,
     "metadata": {},
     "output_type": "execute_result"
    }
   ],
   "source": [
    "df_candidates_final.head()"
   ]
  },
  {
   "cell_type": "markdown",
   "metadata": {},
   "source": [
    "### Prompts \n",
    "\n",
    "For question generation."
   ]
  },
  {
   "cell_type": "code",
   "execution_count": 54,
   "metadata": {},
   "outputs": [],
   "source": [
    "prompt_intro = \"Tarea: escribir buenas preguntas y respuestas sobre fragmentos de texto. Ejemplos:\"\n",
    "\n",
    "prompt_examples = \"\"\"Fragmento: Batalla de Waterloo. La batalla de Waterloo fue un combate que tuvo lugar el 18 de junio de 1815 en las proximidades de Waterloo, una población de la actual Bélgica situada a unos veinte kilómetros al sur de Bruselas, en el que se enfrentó el ejército francés, comandado por el emperador Napoleón Bonaparte, contra las tropas británicas, neerlandesas y alemanas, dirigidas por el duque de Wellington, y el ejército prusiano del mariscal de campo Gebhard von Blücher.\n",
    "\n",
    "Mala pregunta: ¿En qué lugar ocurrió la batalla de Waterloo?\n",
    "\n",
    "Buena pregunta: ¿Quiénes se enfrentaron en la batalla de Waterloo?\n",
    "\n",
    "Respuesta: El ejército francés contra tropas británicas, neerlandesas, alemanas y prusianas\n",
    "\n",
    "Fragmento: Perú. Perú (en quechua y en aimara: \"Piruw\"), oficialmente República del Perú, es un país soberano ubicado al oeste de América del Sur. El océano Pacífico bordea su costa y limita con Ecuador y Colombia al norte, Brasil al este, y Bolivia y Chile al sureste. Su territorio se compone de diversos paisajes: los valles, las mesetas y las altas cumbres de los Andes se despliegan al oeste hacia la costa desértica y el este hacia la Amazonia. Es uno de los países con mayor diversidad biológica y mayores recursos minerales del mundo.\n",
    "\n",
    "Mala pregunta: ¿Cuál es uno de los países con mayor diversidad biológica del mundo?\n",
    "\n",
    "Buena pregunta: ¿Qué países limitan con Perú?\n",
    "\n",
    "Respuesta: Ecuador, Colombia, Brasil, Bolivia y Chile\n",
    "\n",
    "Fragmento: Lionel Messi. Lionel Andrés Messi Cuccittini (Rosario, Santa Fe; 24 de junio de 1987) es un futbolista argentino que juega como delantero o centrocampista en el Paris Saint-Germain de la Ligue 1 de Francia. Es internacional con la selección de Argentina, equipo del que es capitán y máximo goleador histórico.\n",
    "\n",
    "Mala pregunta: ¿Qué jugador es internacional con la selección de Argentina?\n",
    "\n",
    "Buena pregunta: ¿En qué año nació Lionel Messi?\n",
    "\n",
    "Respuesta: 1987\n",
    "\n",
    "Fragmento: Twin Method. Twin Method fue una banda de metal alternativo fundada en Liverpool, Inglaterra.\n",
    "\n",
    "Mala pregunta: ¿Qué banda se fundó en la ciudad de Liverpool, Inglaterra?\n",
    "\n",
    "Buena pregunta: ¿En qué ciudad se fundó la banda Twin Method?\n",
    "\n",
    "Respuesta: Liverpool, Inglaterra\"\"\"\n",
    "\n",
    "prompt_end = \"\"\"Nota: la respuesta debe tener un máximo de diez palabras. El fragmento debe contener la respuesta a la pregunta. La pregunta debe poder entenderse sin aportar información adicional.\n",
    "\n",
    "Lea cuidadosamente el siguiente fragmento y escriba una buena pregunta y su respuesta. Genere un archivo json con las claves “pregunta”, “respuesta”.\"\"\"\n",
    "\n",
    "prompt_chunk = \"\"\"Fragmento: {chunk}\"\"\"\n"
   ]
  },
  {
   "cell_type": "code",
   "execution_count": 55,
   "metadata": {},
   "outputs": [],
   "source": [
    "prompt = \"\\n\\n\".join([prompt_intro, prompt_examples, prompt_end, prompt_chunk])"
   ]
  },
  {
   "cell_type": "code",
   "execution_count": 56,
   "metadata": {},
   "outputs": [
    {
     "name": "stdout",
     "output_type": "stream",
     "text": [
      "Views: 39466\n",
      "Fragmento: Finales de la NBA de 1987. Las Finales de la NBA de 1987 fueron las series definitivas de los playoffs de 1987 y suponían la conclusión de la temporada 1986-87 de la NBA, con victoria de Los Angeles Lakers, campeón de la Conferencia Oeste, sobre Boston Celtics, campeón de la Conferencia Este. Fue la décima vez que ambos equipos se enfrentaban en las Finales y también la última vez que los Celtics disputaron unas Finales, hasta que ambos equipos se enfrentaron de nuevo en 2008.\n",
      "================================================================================\n",
      "Views: 528085\n",
      "Fragmento: Clash of Clans. Clash of Clans, también conocido como CoC, es un videojuego de estrategia y de construcción de aldeas en línea, para dispositivos móviles con plataformas de iOS y Android. Fue desarrollado por Supercell y lanzado para iOS el 2 de agosto del 2012 y el 30 de septiembre para Android. Requiere acceso a Internet para utilizarlo.\n",
      "================================================================================\n",
      "Views: 207160\n",
      "Fragmento: Amancio Amaro. Amancio Amaro Varela (La Coruña, ), más conocido simplemente como Amancio, es un exfutbolista español y jugador histórico del Real Club Deportivo de La Coruña y del Real Madrid Club de Fútbol. Campeón de Europa de clubes y selecciones y ganador del Balón de Bronce (1964), es considerado junto a Luis Suárez como uno de los mejores jugadores gallegos de todos los tiempos por palmarés y trayectoria.\n",
      "================================================================================\n",
      "Views: 148578\n",
      "Fragmento: Tribus griegas. El término tribu, aplicado a los antiguos pueblos de origen griego, se suele emplear para designar dos realidades distintas, que responden a distintos sustantivos griegos, \"etnia\" (ἔθνος) y \"tribu\" (φυλή). Por un lado se habla de tribus griegas para designar un grupo impreciso de pueblos indoeuropeos que hablaban diferentes variantes del griego antiguo: aqueos, dorios, jonios, eolios, arcadios; incluso los pelasgos, que suelen considerarse prehelénicos, son a veces listados como una tribu griega. Para denominar a estos gentilicios o etnónimos, que distintas comunidades griegas de la Antigüedad se aplicaban a sí mismas como endónimo, se utilizaban expresiones como Έλλήνων φυλή (\"hellénon phylé\" -\"tribus griegas\"-) o Έλλήνων έθνη (\"hellénon éthne\" -\"razas griegas\"-). Un endónimo común para todos los griegos era Ἕλενος (\"helenos\"), pero no era el único (véase Nombres de los griegos).\n",
      "================================================================================\n",
      "Views: 373381\n",
      "Fragmento: Revolver (álbum). Revolver es el séptimo álbum de estudio de la banda británica de rock The Beatles lanzado el 5 de agosto de 1966 por EMI. Fue el último álbum lanzado antes de que la banda decidiera abandonar los escenarios y las giras, a favor de la experimentación en los estudios de grabación y mejoramiento de su estilo.\n",
      "================================================================================\n",
      "Views: 10621\n",
      "Fragmento: Willow (canción). «Willow» (estilizada en minúsculas y en español, «Sauce») es una canción de la cantante y compositora estadounidense Taylor Swift, lanzada el 11 de diciembre de 2020 a través de Republic Records. Es la primera canción y el sencillo principal de su noveno álbum de estudio, \"Evermore\". «Willow» es una pista de amor que utiliza varias metáforas para transmitir el estado de ánimo romántico de la cantante, quien retrata su vida como un sauce.\n",
      "================================================================================\n",
      "Views: 26515\n",
      "Fragmento: Eje ferroviario transversal de Andalucía. El Eje Ferroviario Transversal de Andalucía será una infraestructura ferroviaria de altas prestaciones, con tramos de alta velocidad, que atravesará la comunidad autónoma de Andalucía (España) en dirección oeste-este, pasando por Huelva, Sevilla, Antequera, Granada y Almería.\n",
      "================================================================================\n",
      "Views: 370550\n",
      "Fragmento: Android Pie. Android Pie (cuyo nombre en clave durante el desarrollo fue Android P) es el decimosexto lanzamiento y la novena versión del sistema operativo Android.\n",
      "================================================================================\n",
      "Views: 381837\n",
      "Fragmento: Muerte de Rasputín. La muerte del místico y monje ruso Grigori Rasputín, acaecida el , fue causa de un asesinato obra de varios miembros de la nobleza rusa, dirigidos por el príncipe Félix Yusúpov.\n",
      "================================================================================\n",
      "Views: 271968\n",
      "Fragmento: Real Orden del Mérito Deportivo. La Real Orden del Mérito Deportivo es la más alta distinción que se otorga al deporte en España. Se concede anualmente por el Gobierno de la Nación a través del Consejo Superior de Deportes, estableciéndose diferentes rangos y categorías.\n",
      "================================================================================\n"
     ]
    }
   ],
   "source": [
    "# Sample 10 chunks according to their views:\n",
    "df_sample = df_candidates_final.sample(10, weights=\"views\", random_state=32).copy()\n",
    "for i, row in df_sample.iterrows():\n",
    "    print(f\"Views: {row['views']}\")\n",
    "    # print(prompt.format(chunk=row[\"chunk\"]))\n",
    "    print(prompt_chunk.format(chunk=row[\"chunk\"]))\n",
    "    print(\"=\"*80)"
   ]
  },
  {
   "cell_type": "code",
   "execution_count": 57,
   "metadata": {},
   "outputs": [
    {
     "name": "stdout",
     "output_type": "stream",
     "text": [
      "Views: 55\n",
      "Fragmento: Glimmen. Glimmen es un pueblo neerlandés perteneciente al municipio de Groninga en la provincia de Groninga.\n",
      "================================================================================\n",
      "Views: 99\n",
      "Fragmento: Enicospilus ktesus. Enicospilus ktesus es una especie de insecto del género \"Enicospilus\" de la familia Ichneumonidae del orden Hymenoptera.\n",
      "================================================================================\n",
      "Views: 126\n",
      "Fragmento: Enicospilus fenestralis. Enicospilus fenestralis es una especie de insecto del género \"Enicospilus\" de la familia Ichneumonidae del orden Hymenoptera.\n",
      "================================================================================\n",
      "Views: 217\n",
      "Fragmento: Equipo de Fed Cup de Kosovo. El equipo de Fed Cup de Kosovo representa a Kosovo en la competición de la Fed Cup y se rige por la Federación de Tenis de Kosovo. Participaron en la Fed Cup 2016, compitiendo en el .\n",
      "================================================================================\n",
      "Views: 519\n",
      "Fragmento: Hampsthwaite. Hampsthwaite es una localidad situada en el condado de , en Inglaterra (Reino Unido), con una población estimada a mediados de 2016 de .\n",
      "================================================================================\n",
      "Views: 848\n",
      "Fragmento: Afroapoderus rubripes. Afroapoderus rubripes es una especie de coleóptero de la familia Attelabidae.\n",
      "================================================================================\n",
      "Views: 1102\n",
      "Fragmento: Kagawara. × Kagawara, (abreviado Kgw) en el comercio, es un híbrido intergenérico entre los géneros de orquídeas \"Ascocentrum × Renanthera × Vanda\". Fue publicado en \"Orchid Rev.\" 76(900) noh: 2 (1968).\n",
      "================================================================================\n",
      "Views: 3032\n",
      "Fragmento: Felix Anaut. Felix Anaut (Zaragoza, 1944) es un artista pintor, ceramista y escultor español.\n",
      "================================================================================\n",
      "Views: 4452\n",
      "Fragmento: Antonio de Béthencourt y Massieu. Antonio de Béthencourt y Massieu (Las Palmas de Gran Canaria, 16 de noviembre de 1919-ibídem, 30 de marzo de 2017) fue un historiador e investigador español. Fue catedrático de historia moderna, rector de la Universidad de La Laguna y decano de la Facultad de Geografía e Historia de la Universidad Nacional de Educación a Distancia.\n",
      "================================================================================\n",
      "Views: 6625\n",
      "Fragmento: Pedro de Zúñiga y Velasco. Beato Pedro de Zúñiga O.S.A. (Sevilla en 1580 y falleció en Nagasaki el 19 de agosto de 1622) Misionero agustino de origen noble de la Casa de Zúñiga, mártir de la Iglesia católica, beatificado por el papa Pio IX en 1867. Su fiesta en el calendario tradicional se celebra el 19 de agosto, día de su martirio.\n",
      "================================================================================\n",
      "Views: 14561\n",
      "Fragmento: Cala Portinatx. La playa Cala Portinatx está situada en San Juan Bautista, en la parte norte de la isla de Ibiza, en la Comunidad Autónoma de las Islas Baleares, España. En la cala hay una urbanización homónima que tiene 510 habitantes. s un núcleo turístico importante dedicado al turismo familiar de descanso centrado en la playa, alejado del turismo de discoteca predominante en otras zonas de la isla. La cala está pues muy urbanizada y se encuentran muchos servicios: restaurantes, supermercados, hoteles, minigolf ... La afluencia de bañistas es muy importante.\n",
      "================================================================================\n",
      "Views: 26372\n",
      "Fragmento: Ivo Josipović. Ivo Josipović ([iːʋɔ jɔsiːpoʋitɕ], nacido el 28 de agosto de 1957 en Zagreb) es un político croata, Presidente de Croacia desde el 19 de febrero de 2010 hasta el 18 de febrero de 2015. Josipović es profesor universitario y experto jurista, y miembro del Parlamento de Croacia por el Partido Socialdemócrata (SDP) desde 2003. Venció en las Elecciones Presidenciales de Croacia de 2009-2010, en las que se impuso al alcalde de Zagreb, Milan Bandić.\n",
      "================================================================================\n",
      "Views: 39494\n",
      "Fragmento: Corey Benjamin. Corey Dwight Benjamin (nacido el 24 de febrero de 1978 en Compton, California) es un exjugador estadounidense de baloncesto que militó durante cuatro temporadas en la NBA, tres años en Chicago Bulls y uno en Atlanta Hawks. Con 1.98 metros de estatura jugaba en la posición de escolta.\n",
      "================================================================================\n",
      "Views: 57622\n",
      "Fragmento: Manuel Pérez Ruiz. Manuel Pérez Ruiz (18 de marzo de 1993, México) es un futbolista mexicano, juega como Centrocampista y su equipo actual es el Mazatlán F. C. de la Liga MX.\n",
      "================================================================================\n",
      "Views: 147342\n",
      "Fragmento: Maud de Gales. Maud de Gales (\"Maud Charlotte Mary Victoria\"; Londres, 26 de noviembre de 1869 - Londres, 20 de noviembre de 1938) fue una princesa británica, que por su matrimonio se convirtió en princesa de Dinamarca desde 1896 y en reina consorte de Noruega a partir de 1906, cuando ella y su marido Haakon VII fueron coronados en ese país. Ostentaba también el título de princesa Maud de Gales, al ser hija de los príncipes de Gales, más tarde el rey Eduardo VII del Reino Unido y de su esposa, la reina Alejandra. Fue la primera reina de Noruega desde 1319.\n",
      "================================================================================\n",
      "Views: 213827\n",
      "Fragmento: Comunión Tradicionalista. Comunión Tradicionalista es uno de los nombres que adquirió el movimiento carlista como fuerza política desde 1869, junto con otros como Partido Tradicionalista, Comunión Católico-Monárquica (habitual durante el Sexenio Revolucionario), Partido Carlista (hasta 1909), Partido Jaimista (entre 1909 y 1931) o Comunión Legitimista —entre otros— que quedaron en desuso en la década de 1930. A partir de entonces, también se conoció en ocasiones como Comunión Tradicionalista Carlista, denominación dada por Alfonso Carlos de Borbón y Austria-Este.\n",
      "================================================================================\n",
      "Views: 441021\n",
      "Fragmento: 5 de diciembre. El 5 de diciembre es el 339.º (tricentésimo trigésimo noveno) día del año en el calendario gregoriano y el 340.º en los años bisiestos. Quedan 26 días para finalizar el año.\n",
      "================================================================================\n",
      "Views: 642262\n",
      "Fragmento: Vitis. La vid (si se poda y es un arbusto) o parra (si se deja crecer), nombre científico Vitis, es un género con alrededor de sesenta especies aceptadas, de las casi ochocientas descritas, perteneciente a la familia Vitaceae. Se distribuye predominantemente por el hemisferio norte. Su importancia económica se debe al fruto, la uva, la cual se utiliza tanto para consumo directo como fermentada para producir vino. El estudio y cultivo de las vides se denomina viticultura.\n",
      "================================================================================\n",
      "Views: 2027941\n",
      "Fragmento: Círculos del Infierno. Dante Alighieri, en el Infierno, , describe la visión del propio viaje en el ultratumba. Aquí el Infierno está dividido en círculos que son significativamente nueve, basado en el pensamiento aristotélico-tomistico. La construcción del Infierno está explicada por el autor en el .\n",
      "================================================================================\n"
     ]
    }
   ],
   "source": [
    "# Sample chunks stratified by views_bin:\n",
    "n_total = 20\n",
    "n_per_bin = n_total // len(df_candidates_final[\"views_bin\"].unique())\n",
    "df_sample = (\n",
    "    df_candidates_final.groupby(\"views_bin\", as_index=False, observed=True)\n",
    "    .apply(lambda x: x.sample(n_per_bin, random_state=50))\n",
    "    .copy()\n",
    ")\n",
    "for i, row in df_sample.iterrows():\n",
    "    print(f\"Views: {row['views']}\")\n",
    "    # print(prompt.format(chunk=row[\"chunk\"]))\n",
    "    print(prompt_chunk.format(chunk=row[\"chunk\"]))\n",
    "    print(\"=\"*80)"
   ]
  }
 ],
 "metadata": {
  "kernelspec": {
   "display_name": "spanish-ir",
   "language": "python",
   "name": "python3"
  },
  "language_info": {
   "codemirror_mode": {
    "name": "ipython",
    "version": 3
   },
   "file_extension": ".py",
   "mimetype": "text/x-python",
   "name": "python",
   "nbconvert_exporter": "python",
   "pygments_lexer": "ipython3",
   "version": "3.10.13"
  }
 },
 "nbformat": 4,
 "nbformat_minor": 2
}
