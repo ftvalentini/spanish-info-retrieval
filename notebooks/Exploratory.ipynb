{
 "cells": [
  {
   "cell_type": "markdown",
   "metadata": {},
   "source": [
    "# Exploratory\n",
    "\n",
    "In this notebook we explore the Spanish split of the [MIRACL corpus](https://arxiv.org/abs/2210.09984)."
   ]
  },
  {
   "cell_type": "code",
   "execution_count": 30,
   "metadata": {},
   "outputs": [
    {
     "data": {
      "text/plain": [
       "DatasetDict({\n",
       "    train: Dataset({\n",
       "        features: ['docid', 'title', 'text'],\n",
       "        num_rows: 10373953\n",
       "    })\n",
       "})"
      ]
     },
     "execution_count": 30,
     "metadata": {},
     "output_type": "execute_result"
    }
   ],
   "source": [
    "from datasets import load_dataset\n",
    "\n",
    "dataset = load_dataset(\"miracl/miracl-corpus\", \"es\")\n",
    "\n",
    "dataset"
   ]
  },
  {
   "cell_type": "code",
   "execution_count": 33,
   "metadata": {},
   "outputs": [],
   "source": [
    "dataset = dataset.rename_column(\"text\", \"contents\")"
   ]
  },
  {
   "cell_type": "code",
   "execution_count": 4,
   "metadata": {},
   "outputs": [
    {
     "data": {
      "text/plain": [
       "{'docid': '9894682#0',\n",
       " 'title': 'Flapjack (postre)',\n",
       " 'text': 'Un flapjack es un dulce de origen inglés, parecido a una barrita energética. Se hace con copos de avena, mantequilla, azúcar de caña y de un tipo de melaza llamado sirope dorado, un ingrediente de la cocina británica.'}"
      ]
     },
     "execution_count": 4,
     "metadata": {},
     "output_type": "execute_result"
    }
   ],
   "source": [
    "dataset[\"train\"][1]"
   ]
  },
  {
   "cell_type": "markdown",
   "metadata": {},
   "source": [
    "Copio de la descripción del corpus\n",
    "\n",
    "```text\n",
    "The docid has the schema X#Y, where all passages with the same X come from the same Wikipedia article, whereas Y denotes the passage within that article,numbered sequentially. The text field contains the text of the passage. The title field contains the name of the article the passage comes from.\n",
    "```\n",
    "\n",
    "En este caso, el artículo es el 9894682 y el pasaje es el 0. El título es \"Flapjack\".\n",
    "\n",
    "Vamos a bajar las queries ahora"
   ]
  },
  {
   "cell_type": "code",
   "execution_count": 6,
   "metadata": {},
   "outputs": [
    {
     "name": "stderr",
     "output_type": "stream",
     "text": [
      "Downloading data files: 100%|██████████| 3/3 [00:00<00:00, 2111.23it/s]\n",
      "Extracting data files: 100%|██████████| 3/3 [00:00<00:00, 564.41it/s]\n",
      "Generating dev split: 648 examples [10:03,  1.07 examples/s]\n",
      "Generating testB split: 1515 examples [10:06,  2.50 examples/s]\n",
      "Generating train split: 2162 examples [10:11,  3.53 examples/s]\n"
     ]
    }
   ],
   "source": [
    "miracl = load_dataset('miracl/miracl', \"es\", use_auth_token=True)"
   ]
  },
  {
   "cell_type": "code",
   "execution_count": 7,
   "metadata": {},
   "outputs": [
    {
     "data": {
      "text/plain": [
       "DatasetDict({\n",
       "    dev: Dataset({\n",
       "        features: ['query_id', 'query', 'positive_passages', 'negative_passages'],\n",
       "        num_rows: 648\n",
       "    })\n",
       "    testB: Dataset({\n",
       "        features: ['query_id', 'query', 'positive_passages', 'negative_passages'],\n",
       "        num_rows: 1515\n",
       "    })\n",
       "    train: Dataset({\n",
       "        features: ['query_id', 'query', 'positive_passages', 'negative_passages'],\n",
       "        num_rows: 2162\n",
       "    })\n",
       "})"
      ]
     },
     "execution_count": 7,
     "metadata": {},
     "output_type": "execute_result"
    }
   ],
   "source": [
    "miracl"
   ]
  },
  {
   "cell_type": "code",
   "execution_count": 8,
   "metadata": {},
   "outputs": [
    {
     "data": {
      "text/plain": [
       "{'query_id': '919762#0',\n",
       " 'query': '¿Qué significa Cuauhtémoc?',\n",
       " 'positive_passages': [{'docid': '17725#1',\n",
       "   'text': 'El nombre Cuauhtémoc que significa literalmente \\'Águila que descendió (se posó)\\' (náhuatl: \"kwāw\"(\"-tli\") \\'águila\\', \"temō\" \\'descender\\', \"-k\" ). La forma honorífica de Cuauhtémoc es Cuauhtemoctzin (el sufijo \"-tzin\" se usa para designar una dignidad similar a \"Don\" o \"Señor\" en español).',\n",
       "   'title': 'Cuauhtémoc'},\n",
       "  {'docid': '544740#1',\n",
       "   'text': 'Toma su nombre de la Avenida Cuauhtémoc y esta a su vez de Cuauhtémoc, último tlatoani de México-Tenochtitlan. El isotipo de la estación, diseñado por el taller de Lanz Wyman, es un águila ya que Cuauhtémoc significa \"águila que cae\".Existen conexiones con las estaciones y paradas de diversos sistemas de transporte:',\n",
       "   'title': 'Cuauhtémoc (estación)'},\n",
       "  {'docid': '7967208#1',\n",
       "   'text': 'La localidad toma el nombre de \"Cuauhtémoc\", que en náhuatl significa ‘el águila se posó’.',\n",
       "   'title': 'Cuauhtémoc (Actopan)'},\n",
       "  {'docid': '5908193#0',\n",
       "   'text': 'Cuauhtémoc es un nombre personal masculino de origen náhuatl que significa \"el águila que descendió\" (de \"cuauhtli\", águila, \"témoc\", pretérito de \"temo\", bajar), como en el momento en que un águila despliega sus alas y desciende para atacar a su presa. Este es un nombre que implica agresividad, fuerza y determinación. Su forma reverencial es \"Cuauhtemoctzin\". Asimismo, la palabra Cuauhtli, por sí sola, es también usada como nombre personal masculino; y su forma reverencial es Cuauhtzin. Por otra parte, Cuauhtli es el decimoquinto de los 20 signos de los días del Tonalpohualli, calendario ritual azteca conformado por 20 trecenas (260 días). La palabra cuauhtli forma parte de los nombres cuāuhpilli (guerrero águila de la armada azteca), Cuautepec y Cuautinchán, entre otros.',\n",
       "   'title': 'Cuauhtémoc (nombre)'},\n",
       "  {'docid': '43959#5',\n",
       "   'text': 'Consta de 34 colonias: Esta alcaldía toma su nombre del último tlatoani mexica, quien reorganizó al ejército y al pueblo contra el ataque de los conquistadores. Cuauhtémoc es un nombre náhuatl proveniente de las voces \"cuauhtli\", «águila», y \"témoc\", «que baja» o «que cae», como modo de aludir al sol (el águila) en el atardecer.',\n",
       "   'title': 'Cuauhtémoc (Ciudad de México)'}],\n",
       " 'negative_passages': [{'docid': '1173908#0',\n",
       "   'text': 'Cuauhtémoc puede hacer referencia a:',\n",
       "   'title': 'Cuauhtémoc (desambiguación)'},\n",
       "  {'docid': '5424444#1',\n",
       "   'text': 'El nombre (\"Cuauhtémoc\") hace referencia al azteca Cuauhtémoc.',\n",
       "   'title': 'Cuauhtémoc (Izamal)'},\n",
       "  {'docid': '459034#0',\n",
       "   'text': 'Cuauhtémoc, también conocida como Ciudad Cuauhtémoc es una población del estado mexicano de Chihuahua, cabecera del Municipio de Cuauhtémoc. Tiene un total de 180,638 habitantes, la tercera más grande del Estado. Está ubicada en la zona central del mismo, a 105 kilómetros al suroeste de Chihuahua, la capital del Estado. Está considera como la puerta de entrada a la región de la Sierra Tarahumara. Es reconocida por ser la región manzanera más productiva de Latinoamérica, la puerta de entrada a la Sierra Tarahumara y Tierra de las Tres Culturas: la rarámuri, la menonita y la mestiza. En esta ciudad se reconocen como oficiales 3 idiomas, los cuales son Español , Inglés y Plautdietsch.',\n",
       "   'title': 'Cuauhtémoc (Chihuahua)'},\n",
       "  {'docid': '43959#0',\n",
       "   'text': 'Cuauhtémoc es una de las 16 demarcaciones territoriales en que se encuentra dividida la Ciudad de México. Colinda al norte con las demarcaciones territoriales de Azcapotzalco y Gustavo A. Madero, al sur con Iztacalco y Benito Juárez, al poniente con Miguel Hidalgo y al oriente con Venustiano Carranza. Es su nombre un reconocimiento al tlatoani mexica Cuauhtémoc, quien luchó en la batalla de México-Tenochtitlan. Esta demarcación abarca un total de 34 colonias.',\n",
       "   'title': 'Cuauhtémoc (Ciudad de México)'},\n",
       "  {'docid': '3143790#1',\n",
       "   'text': 'El nombre se debe a Cuauhtémoc (ca. 1502 – 1525), último tlatoani de los Aztecas.',\n",
       "   'title': 'Cuauhtémoc (Veracruz)'}]}"
      ]
     },
     "execution_count": 8,
     "metadata": {},
     "output_type": "execute_result"
    }
   ],
   "source": [
    "\n",
    "miracl[\"train\"][1]"
   ]
  },
  {
   "cell_type": "markdown",
   "metadata": {},
   "source": [
    "Este es el que tenemos que usar para referencia"
   ]
  },
  {
   "cell_type": "code",
   "execution_count": 9,
   "metadata": {},
   "outputs": [
    {
     "name": "stdout",
     "output_type": "stream",
     "text": [
      "7 3\n",
      "5 5\n",
      "4 6\n",
      "8 2\n",
      "4 6\n",
      "7 3\n",
      "8 2\n",
      "3 7\n",
      "8 2\n",
      "6 4\n"
     ]
    }
   ],
   "source": [
    "for k in range(10):\n",
    "    ex = miracl[\"train\"][k]\n",
    "    negatives = ex[\"negative_passages\"]\n",
    "    positives = ex[\"positive_passages\"]\n",
    "\n",
    "    print(len(negatives), len(positives))"
   ]
  },
  {
   "cell_type": "markdown",
   "metadata": {},
   "source": [
    "## BM25 index\n",
    "\n",
    "Creamos índice BM25 siguiendo [esta guía](https://github.com/castorini/pyserini/blob/master/docs/usage-index.md)"
   ]
  },
  {
   "cell_type": "code",
   "execution_count": 35,
   "metadata": {},
   "outputs": [
    {
     "name": "stderr",
     "output_type": "stream",
     "text": [
      "Creating json from Arrow format:   0%|          | 0/10374 [00:00<?, ?ba/s]"
     ]
    },
    {
     "name": "stderr",
     "output_type": "stream",
     "text": [
      "Creating json from Arrow format: 100%|██████████| 10374/10374 [01:08<00:00, 151.05ba/s]\n"
     ]
    },
    {
     "data": {
      "text/plain": [
       "5104086234"
      ]
     },
     "execution_count": 35,
     "metadata": {},
     "output_type": "execute_result"
    }
   ],
   "source": [
    "\n",
    "\n",
    "dataset[\"train\"].to_json(\"../data/miracl.json\", orient=\"records\", lines=True)"
   ]
  },
  {
   "cell_type": "code",
   "execution_count": 41,
   "metadata": {},
   "outputs": [
    {
     "ename": "JavaException",
     "evalue": "JVM exception occurred: ../data/miracl does not exist or is not a directory. java.lang.IllegalArgumentException",
     "output_type": "error",
     "traceback": [
      "\u001b[0;31m---------------------------------------------------------------------------\u001b[0m",
      "\u001b[0;31mJavaException\u001b[0m                             Traceback (most recent call last)",
      "Cell \u001b[0;32mIn[41], line 3\u001b[0m\n\u001b[1;32m      1\u001b[0m \u001b[38;5;28;01mfrom\u001b[39;00m \u001b[38;5;21;01mpyserini\u001b[39;00m\u001b[38;5;21;01m.\u001b[39;00m\u001b[38;5;21;01msearch\u001b[39;00m \u001b[38;5;28;01mimport\u001b[39;00m LuceneSearcher\n\u001b[0;32m----> 3\u001b[0m \u001b[43mLuceneSearcher\u001b[49m\u001b[43m(\u001b[49m\u001b[38;5;124;43m\"\u001b[39;49m\u001b[38;5;124;43m../data/miracl\u001b[39;49m\u001b[38;5;124;43m\"\u001b[39;49m\u001b[43m)\u001b[49m\n",
      "File \u001b[0;32m~/.pyenv/versions/miniconda3-3.10-23.9.0-0/envs/spanish-ir/lib/python3.10/site-packages/pyserini/search/lucene/_searcher.py:51\u001b[0m, in \u001b[0;36mLuceneSearcher.__init__\u001b[0;34m(self, index_dir, prebuilt_index_name)\u001b[0m\n\u001b[1;32m     49\u001b[0m \u001b[38;5;28;01mdef\u001b[39;00m \u001b[38;5;21m__init__\u001b[39m(\u001b[38;5;28mself\u001b[39m, index_dir: \u001b[38;5;28mstr\u001b[39m, prebuilt_index_name\u001b[38;5;241m=\u001b[39m\u001b[38;5;28;01mNone\u001b[39;00m):\n\u001b[1;32m     50\u001b[0m     \u001b[38;5;28mself\u001b[39m\u001b[38;5;241m.\u001b[39mindex_dir \u001b[38;5;241m=\u001b[39m index_dir\n\u001b[0;32m---> 51\u001b[0m     \u001b[38;5;28mself\u001b[39m\u001b[38;5;241m.\u001b[39mobject \u001b[38;5;241m=\u001b[39m \u001b[43mJLuceneSearcher\u001b[49m\u001b[43m(\u001b[49m\u001b[43mindex_dir\u001b[49m\u001b[43m)\u001b[49m\n\u001b[1;32m     52\u001b[0m     \u001b[38;5;28mself\u001b[39m\u001b[38;5;241m.\u001b[39mnum_docs \u001b[38;5;241m=\u001b[39m \u001b[38;5;28mself\u001b[39m\u001b[38;5;241m.\u001b[39mobject\u001b[38;5;241m.\u001b[39mget_total_num_docs()\n\u001b[1;32m     53\u001b[0m     \u001b[38;5;66;03m# Keep track if self is a known pre-built index.\u001b[39;00m\n",
      "File \u001b[0;32mjnius/jnius_export_class.pxi:269\u001b[0m, in \u001b[0;36mjnius.JavaClass.__init__\u001b[0;34m()\u001b[0m\n",
      "File \u001b[0;32mjnius/jnius_export_class.pxi:383\u001b[0m, in \u001b[0;36mjnius.JavaClass.call_constructor\u001b[0;34m()\u001b[0m\n",
      "File \u001b[0;32mjnius/jnius_utils.pxi:79\u001b[0m, in \u001b[0;36mjnius.check_exception\u001b[0;34m()\u001b[0m\n",
      "\u001b[0;31mJavaException\u001b[0m: JVM exception occurred: ../data/miracl does not exist or is not a directory. java.lang.IllegalArgumentException"
     ]
    }
   ],
   "source": [
    "\n",
    "from pyserini.search import LuceneSearcher\n",
    "\n",
    "LuceneSearcher(\"../data/miracl\")"
   ]
  },
  {
   "cell_type": "markdown",
   "metadata": {},
   "source": [
    "Error!"
   ]
  },
  {
   "cell_type": "code",
   "execution_count": null,
   "metadata": {},
   "outputs": [],
   "source": []
  }
 ],
 "metadata": {
  "kernelspec": {
   "display_name": "spanish-ir",
   "language": "python",
   "name": "python3"
  },
  "language_info": {
   "codemirror_mode": {
    "name": "ipython",
    "version": 3
   },
   "file_extension": ".py",
   "mimetype": "text/x-python",
   "name": "python",
   "nbconvert_exporter": "python",
   "pygments_lexer": "ipython3",
   "version": "3.10.13"
  }
 },
 "nbformat": 4,
 "nbformat_minor": 2
}
